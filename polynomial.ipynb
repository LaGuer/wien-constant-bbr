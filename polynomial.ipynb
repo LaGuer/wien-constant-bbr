{
 "cells": [
  {
   "cell_type": "markdown",
   "metadata": {},
   "source": [
    "# Polynomial Solver with Sympy"
   ]
  },
  {
   "cell_type": "markdown",
   "metadata": {},
   "source": [
    "𝛢𝛼 𝛣𝛽 𝛤𝛾 𝛥𝛿 𝛦𝜀𝜖 𝛧𝜁 𝛨𝜂 𝛩𝜃𝜗 𝛪𝜄 𝛫𝜅 𝛬𝜆 𝛭𝜇 𝛮𝜈 𝛯𝜉 𝛰𝜊 𝛱𝜋 𝛲𝜌 𝛴𝜎 𝛵𝜏 𝛶𝜐 𝛷𝜙𝜑 𝛸𝜒 𝛹𝜓 𝛺𝜔"
   ]
  },
  {
   "cell_type": "code",
   "execution_count": 1,
   "metadata": {},
   "outputs": [],
   "source": [
    "import scipy as sc\n",
    "import numpy as np\n",
    "import sympy as sy\n",
    "import sympy.ntheory as nt\n",
    "from sympy import *\n",
    "from sympy import roots, solve_poly_system, pi, symbols\n",
    "from sympy import Eq, Symbol, solve\n",
    "from decimal import Decimal\n",
    "from scipy import constants"
   ]
  },
  {
   "cell_type": "code",
   "execution_count": 2,
   "metadata": {},
   "outputs": [
    {
     "name": "stdout",
     "output_type": "stream",
     "text": [
      "3.141592653589793\n",
      "2.5029078750958926\n",
      "4.66920160910299\n",
      "299792458.0\n",
      "6.62607004e-34\n",
      "1.0545718001391127e-34\n",
      "137.0359990836958\n",
      "1.00115965218128\n",
      "1.202056903159594\n",
      "1.6449340668482264\n",
      "2.718281828459045\n",
      "0.5772156649015329\n",
      "25.178097251911886\n",
      "573007.3652475484\n",
      "3.8615926754860414e-13\n",
      "6.739167608810353e-19\n",
      "2.1030891007436132e-16\n",
      "1837.152646 1836.15267343 1838.68366173\n",
      "9.10938356e-31 1.672621898e-27 1.674927471e-27\n",
      "1.6735328101573514e-27\n",
      "1.000027430752471\n",
      "328337440627.9374\n",
      "8.434502907808197\n",
      "113.91063459990004\n",
      "1.380649e-23 2.725820455 9600.591457 1.9454\n",
      "0.000840071648297962\n",
      "0.005278325837563892\n",
      "0.004454741272442552\n",
      "6.67545372e-11\n",
      "1.616394697952977e-35\n",
      "2.176434e-08\n",
      "0.0010630824999999999\n",
      "2878184911147.8315\n",
      "1.176104884079269e-24\n",
      "2.3890159256129782e+22\n",
      "6.739167608810353e-19\n",
      "0.002897771955\n",
      "4.9651141496352365\n",
      "2.42631023609262e-12\n",
      "0.0013440173936824069\n",
      "157705.24049791053\n",
      "178450\n",
      "206.7682869\n",
      "3477.441701\n",
      "50796495.669951715\n",
      "5.294654014500026e-11\n",
      "2.8179403232048126e-15\n",
      "1.7128941892929633e+26\n",
      "9.075773718601222e+86\n",
      "8.792233925167773e+52\n",
      "3.8499570411855367e+87\n",
      "1.4923654607219944e+26\n",
      "3814279.1047601975\n",
      "170141183460469231731687303715884105727\n",
      "15747724136275002577605653961181555468044717914527116709366231425076185631031296\n",
      "808017424794512875886459904961710757005754368000000000\n",
      "4154781481226426191177580544000000\n",
      "2663849798329448283764291471531459318169741293570162121768960000000000000\n",
      "8.724905575508272139543742768E+292\n",
      "2.937238508642020695790261107E+365\n"
     ]
    }
   ],
   "source": [
    "pi=np.pi\n",
    "print(pi)\n",
    "𝛼=2.502907875095892822283902873218215786381271376727149977336192056779235\n",
    "print(𝛼)\n",
    "𝛿=4.669201609102990671853203820466201617258185577475768632745651343004134\n",
    "print(𝛿)\n",
    "c=constants.c\n",
    "print(c)\n",
    "h=constants.h\n",
    "print(h)\n",
    "hbar=constants.hbar\n",
    "print(hbar)\n",
    "a=137.0359990836958\n",
    "print(a)\n",
    "d_e=1.00115965218128\n",
    "print(d_e)\n",
    "zeta3=1.202056903159594\n",
    "print(zeta3)\n",
    "zeta2=np.pi**2/6\n",
    "print(zeta2)\n",
    "#print(c,h,hbar,a,d_e,xi3,xi2)\n",
    "e=np.e\n",
    "print(e)\n",
    "gamma=np.euler_gamma\n",
    "print(gamma)\n",
    "Gamma=(constants.fine_structure**-1*gamma)/np.pi\n",
    "print(Gamma)\n",
    "# F**(2/3)=2*137*Gamma\n",
    "# Fermi's mass given by \n",
    "F=(2*137*Gamma)**1.5\n",
    "print(F)\n",
    "lambdabare=constants.hbar/(constants.m_e*constants.c)\n",
    "print(lambdabare)\n",
    "lambdabar_F=lambdabare/F\n",
    "print(lambdabar_F)\n",
    "lambdabar_p=(constants.hbar/(constants.m_p*constants.c))\n",
    "print(lambdabar_p)\n",
    "H=1837.152646   # (0.06 ppb)\n",
    "p=1836.15267343 # 1836.1526734400013 #(0.06 ppb)\n",
    "n=1838.68366173 # 1838.6836617324586 #(0.5 ppb)\n",
    "print(H,p,n)\n",
    "m_e=constants.m_e\n",
    "m_p=constants.m_p\n",
    "m_n=constants.m_n\n",
    "print(m_e,m_p,m_n)\n",
    "m_H=1837.152645*constants.m_e\n",
    "print(m_H)\n",
    "beta=(H-p)**(-1)\n",
    "print(beta)\n",
    "a_w=F**2\n",
    "print(a_w)\n",
    "a_s=a_w/(2*np.pi*(p*H)**(3/2))\n",
    "print(a_s)\n",
    "j=(8*np.pi**2)/np.log(2)\n",
    "print(j)\n",
    "k_B=1.380649e-23\n",
    "T_cmb=2.725820455\n",
    "t_k=9600.591457\n",
    "T_cnb=1.9454\n",
    "print(k_B,T_cmb,t_k,T_cnb)\n",
    "lambdabar_cmb=(constants.hbar*constants.c)/(k_B*T_cmb)\n",
    "print(lambdabar_cmb)\n",
    "lambda_cmb=lambdabar_cmb*2*np.pi\n",
    "print(lambda_cmb)\n",
    "lambdabar_cnb=hbar* c / k_B * T_cnb\n",
    "print(lambdabar_cnb)\n",
    "# Planck's length CODATA2018 (hbar.G/c^3)^1/2 = 1.61639471.10^-35\n",
    "# l_P=1.616255*10**(-35) CODATA2018\n",
    "G_s=6.67545372*10**-11 # F. M. Sanchez G\n",
    "print(G_s)\n",
    "l_P=((constants.hbar*G_s)/constants.c**3)**0.5\n",
    "print(l_P)\n",
    "# Planck's mass\n",
    "m_P=2.176434*10**(-8)\n",
    "print(m_P)\n",
    "l_wi=1.0630825*10**-3\n",
    "print(l_wi)\n",
    "l_K=9600.591457*c\n",
    "print(l_K)\n",
    "ƛ_w=(constants.hbar/(constants.m_e*constants.c))/F**2\n",
    "print(ƛ_w)\n",
    "lambdabar_w=(constants.hbar/(constants.m_e*constants.c))/F**2\n",
    "P=lambdabare/l_P\n",
    "print(P)\n",
    "lambdabar_F=lambdabare/F\n",
    "print(lambdabar_F)\n",
    "#2.897 771 955... e-3 m.K - NIST CODATA 2018\n",
    "b=2.897771955*10**(-3)\n",
    "#lambdawien=(h*c)/(k_B*)\n",
    "# b=lambda/lambdawien\n",
    "print(b)\n",
    "𝜔=(h*c)/(k_B*b)\n",
    "print(𝜔)\n",
    "lambda_e=lambdabare*2*np.pi\n",
    "print(lambda_e)\n",
    "l_ph=(lambdabare*(np.pi*(a**2))**2)\n",
    "print(l_ph)\n",
    "aprime=137.1106292\n",
    "W=137**2*Gamma/3*d_e\n",
    "print(W)\n",
    "Z=178450\n",
    "print(Z)\n",
    "μ=206.7682869\n",
    "print(μ)\n",
    "τ=3477.441701\n",
    "print(τ)\n",
    "s_4=2*np.pi**2*a**3\n",
    "print(s_4)\n",
    "# Hydrogen Atom Radius\n",
    "r_H=(lambdabare*aprime)\n",
    "print(r_H)\n",
    "r_e=(lambdabare/a)\n",
    "print(r_e)\n",
    "R_N=2*constants.hbar**2/(G_s*((a)*constants.m_e)**3)\n",
    "print(R_N)\n",
    "R_GC=R_N**2/(2*l_P)\n",
    "print(R_GC)\n",
    "M_U=(m_P**4)/(constants.m_e*constants.m_p*constants.m_n)\n",
    "print(M_U)\n",
    "n_ph=(4*np.pi/3)*(lambdabare*2**128/(1+(137**2 + np.pi**2 + e**2)/(H*p) )/l_ph )**3\n",
    "print(n_ph)\n",
    "R1=(np.exp(((a*((1+1/p))*(((np.pi**2)/6)-1))+1)-gamma))*lambdabare\n",
    "print(R1)\n",
    "E_3=e**e**e\n",
    "print(E_3)\n",
    "#E_4=e**e**e**e\n",
    "Lucas=(2**127)-1\n",
    "print(Lucas)\n",
    "N_Edd=136*2**256\n",
    "print(N_Edd)\n",
    "OM=2**46 * 3**20 * 5**9 * 7**6 * 11**2 * 13**3 * 17 * 19 * 23 * 29 * 31 * 41 * 47 * 59 * 71 #  Monster Sporadic Group Order 808017424794512875886459904961710757005754368000000000\n",
    "print(OM)\n",
    "OB=2**41 * 3**13 * 5**6 * 7**2 * 11 * 13 * 17 * 19 * 23 * 31 * 47 # Baby Monster Sporadic Group Order 4154781481226426191177580544000000\n",
    "print(OB)\n",
    "OP=2**8 * 3**7 * 5**6 * 7 * 11 * 31 * 37 * 67 * 2**9 * 3**4 * 5 * 7**3 * 11 * 19 * 31 * 2**14 * 3**3 * 5**3 * 7 * 13 * 29 * 2**21 * 3**3 * 5 * 7 * 11**3 * 23 * 29 * 31 * 37 * 43 * 2**7 * 3**5 * 5 * 17 * 19 * 2**3 * 3 * 5 * 7 * 11 * 19 #  Pariah Sporadic Group Order\n",
    "print(OP)\n",
    "xHappy = Decimal(674.5210288)\n",
    "Happy=np.exp(xHappy) # Happy Family Sporadic Group Order 8.7249055755086e292\n",
    "print(Happy)\n",
    "xTSSPG=Decimal(841.5210288)  #  exp(841.2869278)\n",
    "TSSPG=np.exp(xTSSPG)  # 26 Sporadic Group Order: 2.3241836455143e+365\n",
    "print(TSSPG)"
   ]
  },
  {
   "cell_type": "code",
   "execution_count": 3,
   "metadata": {},
   "outputs": [],
   "source": [
    "x,y,z,t=sy.symbols('x,y,z,t')\n",
    "i,k,m,g,l=sy.symbols(\"i,k,m,g,l\",integer=True)\n",
    "f,g=sy.symbols(\"f,g\",cls=sy.Function)"
   ]
  },
  {
   "cell_type": "code",
   "execution_count": 57,
   "metadata": {},
   "outputs": [
    {
     "name": "stdout",
     "output_type": "stream",
     "text": [
      "Orig frct: 3.1415926535897931602832771842040674840450563394642\n",
      "Attempt 0: 7.0625133059310496693089760154583946513552273408262\n",
      "Attempt 1: 15.996594406684722037754589341971535279464260774919\n",
      "Attempt 2: 1.0034172310143772860609133905767064162060835114001\n",
      "Attempt 3: 292.63459092835947435353512620299262542631190143808\n",
      "Attempt 4: 1.5758183032732130928635687586810927577712442506029\n",
      "Attempt 5: 1.7366589327146171693397788551343819477722557007349\n",
      "Attempt 6: 1.3574803149606299213220741779182233244495018107536\n",
      "Attempt 7: 2.7973568281938325986319672343005395021127589593114\n",
      "Attempt 8: 1.2541436464088397797714770728535545317702588229610\n",
      "Attempt 9: 3.9347826086956521620541775116838847238316449340477\n",
      "Attempt 10: 1.0697674418604651298503841996986480899622006002405\n",
      "Attempt 11: 14.333333333333330545182179417189431246111476139559\n",
      "Attempt 12: 3.0000000000000250933603852454098922451412661330199\n",
      "Attempt 13: 39851179142510.853729995341559005845537548396736797\n",
      "Attempt 14: 1.1713305207226806079660178669866004953990472464266\n",
      "Attempt 15: 5.8366716903792188005890658610331922130056411301361\n",
      "Attempt 16: 1.1952119469307646336583865983864828125228773668260\n",
      "Attempt 17: 5.1226372961418579050061596479601800731691799943172\n",
      "Attempt 18: 8.1541262850680654932622201573937417320740004729790\n"
     ]
    }
   ],
   "source": [
    "import decimal\n",
    "context = decimal.Context(prec=50)\n",
    "# frct = context.sqrt(decimal.Decimal(2))\n",
    "frct = context.divide(245850922,decimal.Decimal(78256779))\n",
    "\n",
    "print('Orig frct:', frct)\n",
    "\n",
    "for i in range(19):\n",
    "    frct = context.divide(1, frct - int(frct))\n",
    "    print('Attempt %d: %s' % (i, frct))"
   ]
  },
  {
   "cell_type": "code",
   "execution_count": 5,
   "metadata": {},
   "outputs": [
    {
     "name": "stdout",
     "output_type": "stream",
     "text": [
      "Terms = 21\n",
      "Continued fraction: [2, 1, 2, 1, 1, 4, 1, 1, 6, 1, 1, 8, 1, 1, 10, 1, 1, 12, 1, 1, 14]\n",
      "Fraction: 410105312 / 150869313\n",
      "Float 2.718281828459045\n"
     ]
    }
   ],
   "source": [
    "import sys\n",
    "def contfrac_to_frac(seq):\n",
    "    ''' Convert the simple continued fraction in `seq` \n",
    "        into a fraction, num / den\n",
    "    '''\n",
    "    num, den = 1, 0\n",
    "    for u in reversed(seq):\n",
    "        num, den = den + num*u, num\n",
    "    return num, den\n",
    "\n",
    "def e_cont_frac(n):\n",
    "    ''' Build `n` terms of the simple continued fraction expansion of e\n",
    "        `n` must be a positive integer\n",
    "    '''\n",
    "    seq = [2 * (i+1) // 3 if i%3 == 2 else 1 for i in range(n)]\n",
    "    seq[0] += 1\n",
    "    return seq\n",
    "\n",
    "def main():\n",
    "    # Get the the number of terms, less one\n",
    "    #with open(filename, 'r') as f:\n",
    "    #n = int(sys.argv[1]) if len(sys.argv) > 1 else 11\n",
    "    n = (len(sys.argv)>1) if len(sys.argv) > 1 else 11\n",
    "    if n < 0:\n",
    "        print('Argument must be >= 0')\n",
    "        exit()\n",
    "\n",
    "    n += 20\n",
    "    seq = e_cont_frac(n)\n",
    "    num, den = contfrac_to_frac(seq)\n",
    "\n",
    "    print('Terms =', n)\n",
    "    print('Continued fraction:', seq)\n",
    "    print('Fraction: {0} / {1}'.format(num, den))\n",
    "    print('Float {0:0.15f}'.format(num / den))\n",
    "\n",
    "if __name__ == '__main__':\n",
    "    main()"
   ]
  },
  {
   "cell_type": "code",
   "execution_count": 6,
   "metadata": {},
   "outputs": [],
   "source": [
    "def sum(n):\n",
    "    S = 0\n",
    "    for k in range(1,n+1):\n",
    "        S += 1.0 / k\n",
    "    return S"
   ]
  },
  {
   "cell_type": "code",
   "execution_count": 7,
   "metadata": {},
   "outputs": [
    {
     "data": {
      "text/plain": [
       "5.157072425905957"
      ]
     },
     "execution_count": 7,
     "metadata": {},
     "output_type": "execute_result"
    }
   ],
   "source": [
    "sum(97)"
   ]
  },
  {
   "cell_type": "code",
   "execution_count": 8,
   "metadata": {},
   "outputs": [
    {
     "data": {
      "text/plain": [
       "137.154383398796"
      ]
     },
     "execution_count": 8,
     "metadata": {},
     "output_type": "execute_result"
    }
   ],
   "source": [
    "5.157072425905957**3"
   ]
  },
  {
   "cell_type": "code",
   "execution_count": 59,
   "metadata": {},
   "outputs": [
    {
     "name": "stdout",
     "output_type": "stream",
     "text": [
      "2/127 donne  [0, 64, 8128]\n",
      "2/127 = 0 + 1/64 + 1/8128\n",
      "2/129 donne  [0, 65, 8385]\n",
      "2/129 = 0 + 1/65 + 1/8385\n",
      "2/131 donne  [0, 66, 8646]\n",
      "2/131 = 0 + 1/66 + 1/8646\n",
      "2/133 donne  [0, 67, 8911]\n",
      "2/133 = 0 + 1/67 + 1/8911\n",
      "2/137 donne  [0, 69, 9453]\n",
      "2/137 = 0 + 1/69 + 1/9453\n",
      "2/139 donne  [0, 70, 9730]\n",
      "2/139 = 0 + 1/70 + 1/9730\n",
      "2/1837 donne  [0, 919, 1688203]\n",
      "2/1837 = 0 + 1/919 + 1/1688203\n",
      "2/573007 donne  [0, 286504, 164168797528]\n",
      "2/573007 = 0 + 1/286504 + 1/164168797528\n",
      "197729320/1442897 donne  [137, 28, 1606, 2759856, 8043075252124, 74394718438020935016235959, 9224290219120686781867897750649829701757292258180176]\n",
      "197729320/1442897 = 137 + 1/28 + 1/1606 + 1/2759856 + 1/8043075252124 + 1/74394718438020935016235959 + 1/9224290219120686781867897750649829701757292258180176\n"
     ]
    }
   ],
   "source": [
    "# -*- coding: utf-8 -*-\n",
    "\"\"\"\n",
    "@author: H.Bouia (21/03/2014)\n",
    "Objet : Decomposition d'une fraction a/b en fractions egyptiennes\n",
    "avec l'algorithme de FIBONACCI-SYLVESTER.\n",
    "Pour le detail voir par exemple le site : \n",
    "http://jeux-et-mathematiques.davalan.org/arit/egy/index.html\n",
    "\n",
    "N.B. : Ici on ne travaille qu'avec des entiers naturels strictement positifs\n",
    "\"\"\"\n",
    "# Calcul du pgcd de 2 entiers naturels x et y\n",
    "def pgcd(x,y): return x if y==0 else pgcd(y,x%y)\n",
    "\n",
    "# Calcul de la fraction irreductible de x et y\n",
    "def irreduc(x,y): d=pgcd(x,y) ; return x//d,y//d\n",
    "\n",
    "# Calcul de la decomposition d'une fraction x/y en fractions egyptiennes\n",
    "# avec l'algorithme de FIBONACCI-SYLVESTER.\n",
    "# Retourne une liste dont le premier element est la partie entiere de a/b\n",
    "# suivi des denominateurs de la decomposition de la partie fractionnaires en \n",
    "# fractions egyptiennes.\n",
    "def egypt(x,y):    \n",
    "    def _egypt(x,y):\n",
    "        a1,b1=irreduc(x,y)\n",
    "        if a1==1: return [b1]\n",
    "        q1=b1//a1+1\n",
    "        return [q1]+_egypt(a1*q1-b1,b1*q1)\n",
    "    return [x//y]+([] if x%y==0 else _egypt(x%y,y))\n",
    "\n",
    "if __name__ == '__main__':\n",
    "    #exemples=[(1,113),(197729320,1442897),(2410762790662797,17592186044416)]\n",
    "    exemples=[(2,127),(2,129),(2,131),(2,133),(2,137),(2,139),(2,1837),(2,573007),(197729320,1442897)]\n",
    "    for x,y in exemples:\n",
    "        e=egypt(x,y)\n",
    "        res=str(e[0])\n",
    "        for i in e[1:]:\n",
    "            res+=' + 1/'+str(i)\n",
    "        print('%d/%d donne '%(x,y),e)\n",
    "        print('%d/%d ='%(x,y),res)\n",
    "        print"
   ]
  },
  {
   "cell_type": "code",
   "execution_count": 10,
   "metadata": {},
   "outputs": [
    {
     "data": {
      "text/plain": [
       "137.03633731305837"
      ]
     },
     "execution_count": 10,
     "metadata": {},
     "output_type": "execute_result"
    }
   ],
   "source": [
    "197729320/1442897"
   ]
  },
  {
   "cell_type": "code",
   "execution_count": 15,
   "metadata": {},
   "outputs": [],
   "source": [
    "from __future__ import print_function, division\n",
    "\n",
    "import sympy.polys\n",
    "from sympy import Integer\n",
    "from sympy.core.compatibility import range\n",
    "from fractions import gcd\n",
    "\n",
    "\n",
    "def egyptian_fraction(r, algorithm=\"Greedy\"):\n",
    "    \"\"\"\n",
    "    Return the list of denominators of an Egyptian fraction\n",
    "    expansion [1]_ of the said rational `r`.\n",
    "\n",
    "    Parameters\n",
    "    ==========\n",
    "\n",
    "    r : Rational\n",
    "        a positive rational number.\n",
    "    algorithm : { \"Greedy\", \"Graham Jewett\", \"Takenouchi\", \"Golomb\" }, optional\n",
    "        Denotes the algorithm to be used (the default is \"Greedy\").\n",
    "\n",
    "    Examples\n",
    "    ========\n",
    "\n",
    "    >>> from sympy import Rational\n",
    "    >>> from sympy.ntheory.egyptian_fraction import egyptian_fraction\n",
    "    >>> egyptian_fraction(Rational(3, 7))\n",
    "    [3, 11, 231]\n",
    "    >>> egyptian_fraction(Rational(3, 7), \"Graham Jewett\")\n",
    "    [7, 8, 9, 56, 57, 72, 3192]\n",
    "    >>> egyptian_fraction(Rational(3, 7), \"Takenouchi\")\n",
    "    [4, 7, 28]\n",
    "    >>> egyptian_fraction(Rational(3, 7), \"Golomb\")\n",
    "    [3, 15, 35]\n",
    "    >>> egyptian_fraction(Rational(11, 5), \"Golomb\")\n",
    "    [1, 2, 3, 4, 9, 234, 1118, 2580]\n",
    "\n",
    "    See Also\n",
    "    ========\n",
    "\n",
    "    sympy.core.numbers.Rational\n",
    "\n",
    "    Notes\n",
    "    =====\n",
    "\n",
    "    Currently the following algorithms are supported:\n",
    "\n",
    "    1) Greedy Algorithm\n",
    "\n",
    "       Also called the Fibonacci-Sylvester algorithm [2]_.\n",
    "       At each step, extract the largest unit fraction less\n",
    "       than the target and replace the target with the remainder.\n",
    "\n",
    "       It has some distinct properties:\n",
    "\n",
    "       a) Given `p/q` in lowest terms, generates an expansion of maximum\n",
    "          length `p`. Even as the numerators get large, the number of\n",
    "          terms is seldom more than a handful.\n",
    "\n",
    "       b) Uses minimal memory.\n",
    "\n",
    "       c) The terms can blow up (standard examples of this are 5/121 and\n",
    "          31/311).  The denominator is at most squared at each step\n",
    "          (doubly-exponential growth) and typically exhibits\n",
    "          singly-exponential growth.\n",
    "\n",
    "    2) Graham Jewett Algorithm\n",
    "\n",
    "       The algorithm suggested by the result of Graham and Jewett.\n",
    "       Note that this has a tendency to blow up: the length of the\n",
    "       resulting expansion is always ``2**(x/gcd(x, y)) - 1``.  See [3]_.\n",
    "\n",
    "    3) Takenouchi Algorithm\n",
    "\n",
    "       The algorithm suggested by Takenouchi (1921).\n",
    "       Differs from the Graham-Jewett algorithm only in the handling\n",
    "       of duplicates.  See [3]_.\n",
    "\n",
    "    4) Golomb's Algorithm\n",
    "\n",
    "       A method given by Golumb (1962), using modular arithmetic and\n",
    "       inverses.  It yields the same results as a method using continued\n",
    "       fractions proposed by Bleicher (1972).  See [4]_.\n",
    "\n",
    "    If the given rational is greater than or equal to 1, a greedy algorithm\n",
    "    of summing the harmonic sequence 1/1 + 1/2 + 1/3 + ... is used, taking\n",
    "    all the unit fractions of this sequence until adding one more would be\n",
    "    greater than the given number.  This list of denominators is prefixed\n",
    "    to the result from the requested algorithm used on the remainder.  For\n",
    "    example, if r is 8/3, using the Greedy algorithm, we get [1, 2, 3, 4,\n",
    "    5, 6, 7, 14, 420], where the beginning of the sequence, [1, 2, 3, 4, 5,\n",
    "    6, 7] is part of the harmonic sequence summing to 363/140, leaving a\n",
    "    remainder of 31/420, which yields [14, 420] by the Greedy algorithm.\n",
    "    The result of egyptian_fraction(Rational(8, 3), \"Golomb\") is [1, 2, 3,\n",
    "    4, 5, 6, 7, 14, 574, 2788, 6460, 11590, 33062, 113820], and so on.\n",
    "\n",
    "    References\n",
    "    ==========\n",
    "\n",
    "    .. [1] http://en.wikipedia.org/wiki/Egyptian_fraction\n",
    "    .. [2] https://en.wikipedia.org/wiki/Greedy_algorithm_for_Egyptian_fractions\n",
    "    .. [3] http://www.ics.uci.edu/~eppstein/numth/egypt/conflict.html\n",
    "    .. [4] http://ami.ektf.hu/uploads/papers/finalpdf/AMI_42_from129to134.pdf\n",
    "\n",
    "    \"\"\"\n",
    "\n",
    "    if r <= 0:\n",
    "        raise ValueError(\"Value must be positive\")\n",
    "\n",
    "    prefix, rem = egypt_harmonic(r)\n",
    "    if rem == 0:\n",
    "        return prefix\n",
    "    x, y = rem.as_numer_denom()\n",
    "\n",
    "    if algorithm == \"Greedy\":\n",
    "        return prefix + egypt_greedy(x, y)\n",
    "    elif algorithm == \"Graham Jewett\":\n",
    "        return prefix + egypt_graham_jewett(x, y)\n",
    "    elif algorithm == \"Takenouchi\":\n",
    "        return prefix + egypt_takenouchi(x, y)\n",
    "    elif algorithm == \"Golomb\":\n",
    "        return prefix + egypt_golomb(x, y)\n",
    "    else:\n",
    "        raise ValueError(\"Entered invalid algorithm\")\n",
    "\n",
    "\n",
    "\n",
    "def egypt_greedy(x, y):\n",
    "    if x == 1:\n",
    "        return [y]\n",
    "    else:\n",
    "        a = (-y) % (x)\n",
    "        b = y*(y//x + 1)\n",
    "        c = gcd(a, b)\n",
    "        if c > 1:\n",
    "            num, denom = a//c, b//c\n",
    "        else:\n",
    "            num, denom = a, b\n",
    "        return [y//x + 1] + egypt_greedy(num, denom)\n",
    "\n",
    "\n",
    "def egypt_graham_jewett(x, y):\n",
    "    l = [y] * x\n",
    "\n",
    "    # l is now a list of integers whose reciprocals sum to x/y.\n",
    "    # we shall now proceed to manipulate the elements of l without\n",
    "    # changing the reciprocated sum until all elements are unique.\n",
    "\n",
    "    while len(l) != len(set(l)):\n",
    "        l.sort()  # so the list has duplicates. find a smallest pair\n",
    "        for i in range(len(l) - 1):\n",
    "            if l[i] == l[i + 1]:\n",
    "                break\n",
    "        # we have now identified a pair of identical\n",
    "        # elements: l[i] and l[i + 1].\n",
    "        # now comes the application of the result of graham and jewett:\n",
    "        l[i + 1] = l[i] + 1\n",
    "        # and we just iterate that until the list has no duplicates.\n",
    "        l.append(l[i]*(l[i] + 1))\n",
    "    return sorted(l)\n",
    "\n",
    "\n",
    "def egypt_takenouchi(x, y):\n",
    "    l = [y] * x\n",
    "    while len(l) != len(set(l)):\n",
    "        l.sort()\n",
    "        for i in range(len(l) - 1):\n",
    "            if l[i] == l[i + 1]:\n",
    "                break\n",
    "        k = l[i]\n",
    "        if k % 2 == 0:\n",
    "            l[i] = l[i] // 2\n",
    "            del l[i + 1]\n",
    "        else:\n",
    "            l[i], l[i + 1] = (k + 1)//2, k*(k + 1)//2\n",
    "    return sorted(l)\n",
    "\n",
    "\n",
    "def egypt_golomb(x, y):\n",
    "    if x == 1:\n",
    "        return [y]\n",
    "    xp = sympy.polys.ZZ.invert(int(x), int(y))\n",
    "    rv = [Integer(xp*y)]\n",
    "    rv.extend(egypt_golomb((x*xp - 1)//y, xp))\n",
    "    return sorted(rv)\n",
    "\n",
    "\n",
    "def egypt_harmonic(r):\n",
    "    rv = []\n",
    "    d = Integer(1)\n",
    "    acc = Integer(0)\n",
    "    while acc + 1/d <= r:\n",
    "        acc += 1/d\n",
    "        rv.append(d)\n",
    "        d += 1\n",
    "    return (rv, r - acc)"
   ]
  },
  {
   "cell_type": "code",
   "execution_count": 19,
   "metadata": {},
   "outputs": [
    {
     "name": "stderr",
     "output_type": "stream",
     "text": [
      "/srv/conda/envs/notebook/lib/python3.7/site-packages/ipykernel_launcher.py:134: DeprecationWarning: fractions.gcd() is deprecated. Use math.gcd() instead.\n"
     ]
    },
    {
     "data": {
      "text/plain": [
       "[69, 9453]"
      ]
     },
     "execution_count": 19,
     "metadata": {},
     "output_type": "execute_result"
    }
   ],
   "source": [
    "egyptian_fraction(Rational(2, 137))"
   ]
  },
  {
   "cell_type": "code",
   "execution_count": 33,
   "metadata": {},
   "outputs": [
    {
     "data": {
      "text/plain": [
       "[137, 138, 18906]"
      ]
     },
     "execution_count": 33,
     "metadata": {},
     "output_type": "execute_result"
    }
   ],
   "source": [
    "egyptian_fraction(Rational(2, 137), \"Graham Jewett\")"
   ]
  },
  {
   "cell_type": "code",
   "execution_count": 35,
   "metadata": {},
   "outputs": [
    {
     "data": {
      "text/plain": [
       "[69, 9453]"
      ]
     },
     "execution_count": 35,
     "metadata": {},
     "output_type": "execute_result"
    }
   ],
   "source": [
    "egyptian_fraction(Rational(2, 137), \"Takenouchi\")"
   ]
  },
  {
   "cell_type": "code",
   "execution_count": 22,
   "metadata": {},
   "outputs": [
    {
     "data": {
      "text/plain": [
       "[69, 9453]"
      ]
     },
     "execution_count": 22,
     "metadata": {},
     "output_type": "execute_result"
    }
   ],
   "source": [
    "egyptian_fraction(Rational(2, 137), \"Golomb\")"
   ]
  },
  {
   "cell_type": "code",
   "execution_count": 36,
   "metadata": {},
   "outputs": [
    {
     "data": {
      "text/plain": [
       "[67, 8911]"
      ]
     },
     "execution_count": 36,
     "metadata": {},
     "output_type": "execute_result"
    }
   ],
   "source": [
    "egyptian_fraction(Rational(2, 133), \"Golomb\")"
   ]
  },
  {
   "cell_type": "code",
   "execution_count": 18,
   "metadata": {},
   "outputs": [
    {
     "name": "stderr",
     "output_type": "stream",
     "text": [
      "/srv/conda/envs/notebook/lib/python3.7/site-packages/ipykernel_launcher.py:134: DeprecationWarning: fractions.gcd() is deprecated. Use math.gcd() instead.\n"
     ]
    },
    {
     "data": {
      "text/plain": [
       "[66, 8646]"
      ]
     },
     "execution_count": 18,
     "metadata": {},
     "output_type": "execute_result"
    }
   ],
   "source": [
    "egyptian_fraction(Rational(2, 131))"
   ]
  },
  {
   "cell_type": "code",
   "execution_count": 50,
   "metadata": {},
   "outputs": [
    {
     "name": "stdout",
     "output_type": "stream",
     "text": [
      "(2, 3, 10, 24, 40)\n",
      "(2, 3, 11, 22, 33)\n",
      "(2, 3, 12, 18, 36)\n",
      "(2, 3, 12, 20, 30)\n",
      "(2, 3, 12, 21, 28)\n",
      "(2, 3, 14, 15, 35)\n",
      "(2, 4, 6, 18, 36)\n",
      "(2, 4, 6, 20, 30)\n",
      "(2, 4, 6, 21, 28)\n",
      "(2, 4, 7, 14, 28)\n",
      "(2, 4, 8, 10, 40)\n",
      "(2, 4, 8, 12, 24)\n",
      "(2, 4, 9, 12, 18)\n",
      "(2, 4, 10, 12, 15)\n",
      "(2, 5, 6, 10, 30)\n",
      "(2, 5, 6, 12, 20)\n",
      "(3, 4, 5, 6, 20)\n"
     ]
    }
   ],
   "source": [
    "from fractions import Fraction\n",
    "lim=37\n",
    "for r in range(2,lim):\n",
    "    for s in range(r+1,lim+1):\n",
    "        for t in range(s+1,lim+2):\n",
    "            for u in range(t+1,lim+3):\n",
    "                for v in range(u+1,lim+4):\n",
    "                    if Fraction(1,r) + Fraction(1,s) + Fraction(1,t) + Fraction(1,u) + Fraction(1,v)==1:\n",
    "                        print ((r,s,t,u,v))"
   ]
  },
  {
   "cell_type": "code",
   "execution_count": 14,
   "metadata": {},
   "outputs": [
    {
     "data": {
      "text/plain": [
       "3.1415929203539825"
      ]
     },
     "execution_count": 14,
     "metadata": {},
     "output_type": "execute_result"
    }
   ],
   "source": [
    "355/113"
   ]
  },
  {
   "cell_type": "code",
   "execution_count": 15,
   "metadata": {},
   "outputs": [
    {
     "data": {
      "text/plain": [
       "(x + pi)**2"
      ]
     },
     "execution_count": 15,
     "metadata": {},
     "output_type": "execute_result"
    }
   ],
   "source": [
    "# symbole (variable)\n",
    "x= sy.Symbol('x')\n",
    "(sy.pi+x)**2"
   ]
  },
  {
   "cell_type": "code",
   "execution_count": 16,
   "metadata": {},
   "outputs": [
    {
     "data": {
      "text/plain": [
       "[-1, 1/2 - sqrt(11)*I/2, 1/2 + sqrt(11)*I/2]"
      ]
     },
     "execution_count": 16,
     "metadata": {},
     "output_type": "execute_result"
    }
   ],
   "source": [
    "solve(x**3 + 2*x + 3, x)"
   ]
  },
  {
   "cell_type": "code",
   "execution_count": 17,
   "metadata": {},
   "outputs": [
    {
     "data": {
      "text/plain": [
       "[-1, 1/2 - sqrt(11)*I/2, 1/2 + sqrt(11)*I/2]"
      ]
     },
     "execution_count": 17,
     "metadata": {},
     "output_type": "execute_result"
    }
   ],
   "source": [
    "solve(x**3 + 2*x + 3, x)"
   ]
  },
  {
   "cell_type": "code",
   "execution_count": 18,
   "metadata": {},
   "outputs": [
    {
     "data": {
      "text/plain": [
       "[0, -1/8 - sqrt(15)*I/8, -1/8 + sqrt(15)*I/8]"
      ]
     },
     "execution_count": 18,
     "metadata": {},
     "output_type": "execute_result"
    }
   ],
   "source": [
    "# x=pi\n",
    "solve(4*x**3 + x**2 + x, x)"
   ]
  },
  {
   "cell_type": "code",
   "execution_count": 19,
   "metadata": {},
   "outputs": [],
   "source": [
    "#solve_poly_system([y**2 - x**3 + 1, y*x], x, y)\n",
    "#solve_poly_system([y**2 - x**3 + 1, y*x], x, y)"
   ]
  },
  {
   "cell_type": "code",
   "execution_count": 49,
   "metadata": {},
   "outputs": [
    {
     "name": "stdout",
     "output_type": "stream",
     "text": [
      "[0.0459770114942529]\n"
     ]
    }
   ],
   "source": [
    "from sympy import Eq, Symbol, solve\n",
    "\n",
    "x = Symbol('x')\n",
    "#eqn = Eq(x*(4*x**3 + x**2 +x), 137.035999084)\n",
    "#eqn = Eq((4*x**3 + x**2 + x), 137.0359990836958) # CODATA2018\n",
    "#eqn = Eq(lambdabare*2**128/(x-d_e*-(573007*sy.catalan(37))/3390*(np.log(np.log(np.pi**11)))*gamma**(3/4)/(8*gamma**(7/4))), 1.30671369520118e+26)\n",
    "#eqn = Eq(lambdabare*2**128/(x-d_e*gamma**(3/4)/(8*gamma**(7/4))), 1.30671369520118e+26) #x=1.22240843201493\n",
    "#eqn = Eq(lambdabare*2**128/(x-d_e*gamma**11), 1.30671369520118e+26) #x=1.22240843201493  #1.00797305120336\n",
    "#eqn = Eq(lambdabare*2**128/(d_e**2*m_e*m_p*m_H+x), 1.30671369520118e+26) # x=1.00560046207876\n",
    "#eqn = Eq(lambdabare*2**128/(a*(H/p)**6-x), 1.30671369520118e+26) # x=136.478789263019\n",
    "#eqn = Eq(lambdabare*2**128/(1/a*(H/p)**6+x), 1.30671369520118e+26) # 0.998279232100450\n",
    "#eqn = Eq(((907/(x-1))*2**256*G_s*m_H/c**2), 1.30671369520118e+26) # 1.99903188416474\n",
    "#eqn = Eq((((x**2/(2*137*pi)))*2**256*G_s*m_H/c**2), 1.30671369520118e+26) # 6.62511265682857\n",
    "#eqn = Eq(((a/(1/x))*2**256*G_s*m_H/c**2), 1.30671369520118e+26) # 1.15094082950715\n",
    "#eqn = Eq(((((2**(x-1))))*G_s*m_H/c**2), 1.30671369520118e+26) # 0.163072428641912\n",
    "#eqn = Eq(2**128-1/(d_e**2*m_e*m_p*m_H*x), 1.30671369520118e+26) # x=1.00560046207876\n",
    "#eqn = Eq(2**128-1/(d_e**2*m_e*m_p*m_H*x), 1.30671369520118e+26) # x=1.00560046207876\n",
    "#eqn = Eq((2*hbar**2/(x*m_H*m_p*m_e)), 1.30671369520118e+26) # 1.15094082950715\n",
    "#eqn = Eq((2*hbar**2/(x/c**2)), 1.30671369520118e+26) # 1.15094082950715\n",
    "eqn = Eq(((1/2+1/3+1/4+1/x)*6), 137) # \n",
    "# ((1+np.sqrt(5))/2)**137\n",
    "#eqn = Eq((4*x**3 \n",
    "print(solve(eqn))"
   ]
  },
  {
   "cell_type": "markdown",
   "metadata": {},
   "source": [
    "###  Calculus of $\\pi$ with Eddington Constant "
   ]
  },
  {
   "cell_type": "code",
   "execution_count": 21,
   "metadata": {},
   "outputs": [
    {
     "name": "stdout",
     "output_type": "stream",
     "text": [
      "[43.6199132715101]\n"
     ]
    }
   ],
   "source": [
    "from sympy import Eq, Symbol, solve\n",
    "\n",
    "x = Symbol('x')\n",
    "#eqn = Eq(x*(4*x**3 + x**2 +x), 137.035999084)\n",
    "#eqn = Eq((4*x**3 + x**2 + x), 137.0359990836958) # CODATA2018\n",
    "#eqn = Eq((4*x**3 + x**2 + x), 137 ) \n",
    "eqn = Eq((137.035999084*(1/x)), 3.141592653589793238462643383279502884197169399375105 ) \n",
    "print(solve(eqn))"
   ]
  },
  {
   "cell_type": "code",
   "execution_count": 22,
   "metadata": {},
   "outputs": [
    {
     "data": {
      "text/plain": [
       "137.0359990836958"
      ]
     },
     "execution_count": 22,
     "metadata": {},
     "output_type": "execute_result"
    }
   ],
   "source": [
    "a"
   ]
  },
  {
   "cell_type": "code",
   "execution_count": 23,
   "metadata": {},
   "outputs": [
    {
     "name": "stdout",
     "output_type": "stream",
     "text": [
      "137\n",
      "4821525581723325/35184372088832\n",
      "2410762790662797/17592186044416\n",
      "34258999771/250000000\n",
      "137\n"
     ]
    }
   ],
   "source": [
    "from fractions import Fraction as frac\n",
    "print(frac(137.))\n",
    "print(frac(137.035999095))\n",
    "print(frac(137.0359990836958))\n",
    "print(frac('137.035999084'))\n",
    "print(frac('137.'))"
   ]
  },
  {
   "cell_type": "code",
   "execution_count": 24,
   "metadata": {},
   "outputs": [
    {
     "name": "stdout",
     "output_type": "stream",
     "text": [
      "Add: 19/8\n",
      "Subtract: 1/2\n",
      "Multiply: 10/21\n",
      "Divide: 12/5\n",
      "Power: 197729320/1442897\n"
     ]
    }
   ],
   "source": [
    "from fractions import Fraction as frac\n",
    "print('Add: ' + str(frac('5/4') + frac('9/8')))\n",
    "print('Subtract: ' + str(frac('15/20') - frac('2/8')))\n",
    "print('Multiply: ' + str(frac('2/3') * frac('5/7')))\n",
    "print('Divide: ' + str(frac('80/125') / frac('12/45')))\n",
    "print('Power: ' + str(4*frac('355/113') ** 3 + frac('355/113') ** 2  + frac('355/113')))"
   ]
  },
  {
   "cell_type": "code",
   "execution_count": 25,
   "metadata": {},
   "outputs": [
    {
     "name": "stdout",
     "output_type": "stream",
     "text": [
      "Square Root: 0.75\n",
      "Square Root: 3/4\n",
      "Floor Value: 3\n",
      "Ceiling Value: 4\n"
     ]
    }
   ],
   "source": [
    "from fractions import Fraction as frac\n",
    "import math\n",
    "print('Square Root: ' + str(math.sqrt(frac(36, 64))))\n",
    "print('Square Root: ' + str(frac(math.sqrt(frac(36, 64)))))\n",
    "print('Floor Value: ' + str(math.floor(frac('22/7'))))\n",
    "print('Ceiling Value: ' + str(math.ceil(frac('22/7'))))"
   ]
  },
  {
   "cell_type": "code",
   "execution_count": 26,
   "metadata": {},
   "outputs": [
    {
     "name": "stdout",
     "output_type": "stream",
     "text": [
      "[3.14130385741991, -1.69565192870995 - 2.8333514476073*I, -1.69565192870995 + 2.8333514476073*I]\n"
     ]
    }
   ],
   "source": [
    "from sympy import Eq, Symbol, solve\n",
    "\n",
    "x = Symbol('x')\n",
    "#eqn = Eq(x*(4*x**3 + x**2 +x), 137.035999084)\n",
    "#eqn = Eq((4*x**3 + x**2 + x), 137.0359990836958) # CODATA2018\n",
    "eqn = Eq((4*x**3 + x**2 + x), 137. ) \n",
    "print(solve(eqn))"
   ]
  },
  {
   "cell_type": "code",
   "execution_count": 27,
   "metadata": {},
   "outputs": [
    {
     "name": "stdout",
     "output_type": "stream",
     "text": [
      "[3.14130385741991, -1.69565192870995 - 2.8333514476073*I, -1.69565192870995 + 2.8333514476073*I]\n"
     ]
    }
   ],
   "source": [
    "from sympy import Eq, Symbol, solve\n",
    "\n",
    "x = Symbol('x')\n",
    "#eqn = Eq(x*(4*x**3 + x**2 +x), 137.035999084)\n",
    "#eqn = Eq((4*x**3 + x**2 + x), 137.0359990836958) # CODATA2018\n",
    "eqn = Eq((4*x**3 + x**2 + x), 137.00 ) \n",
    "#eqn = Eq((4*x**3 + x**2 + x), 137) \n",
    "print(solve(eqn))"
   ]
  },
  {
   "cell_type": "code",
   "execution_count": 28,
   "metadata": {},
   "outputs": [
    {
     "data": {
      "text/plain": [
       "True"
      ]
     },
     "execution_count": 28,
     "metadata": {},
     "output_type": "execute_result"
    }
   ],
   "source": [
    "nt.isprime(2**127-1)"
   ]
  },
  {
   "cell_type": "code",
   "execution_count": 29,
   "metadata": {},
   "outputs": [
    {
     "data": {
      "text/plain": [
       "340282366920938463463374607431768211507"
      ]
     },
     "execution_count": 29,
     "metadata": {},
     "output_type": "execute_result"
    }
   ],
   "source": [
    "nt.nextprime(2**128-1)"
   ]
  },
  {
   "cell_type": "code",
   "execution_count": 30,
   "metadata": {},
   "outputs": [
    {
     "data": {
      "text/plain": [
       "[3, 5, 17, 257, 641, 65537, 274177, 6700417, 67280421310721]"
      ]
     },
     "execution_count": 30,
     "metadata": {},
     "output_type": "execute_result"
    }
   ],
   "source": [
    "nt.primefactors(2**128-1)"
   ]
  },
  {
   "cell_type": "code",
   "execution_count": 31,
   "metadata": {},
   "outputs": [
    {
     "data": {
      "text/plain": [
       "340282366920938463463374607431768211455"
      ]
     },
     "execution_count": 31,
     "metadata": {},
     "output_type": "execute_result"
    }
   ],
   "source": [
    "2**128-1"
   ]
  },
  {
   "cell_type": "code",
   "execution_count": 32,
   "metadata": {},
   "outputs": [
    {
     "data": {
      "text/plain": [
       "169875107699410294159549716941399654400"
      ]
     },
     "execution_count": 32,
     "metadata": {},
     "output_type": "execute_result"
    }
   ],
   "source": [
    "#nt.nextprime(2**128-1)\n",
    "nt.totient(2**128-1)"
   ]
  },
  {
   "cell_type": "code",
   "execution_count": 33,
   "metadata": {},
   "outputs": [
    {
     "data": {
      "text/plain": [
       "[1,\n",
       " 2,\n",
       " 3,\n",
       " 4,\n",
       " 5,\n",
       " 6,\n",
       " 7,\n",
       " 8,\n",
       " 9,\n",
       " 10,\n",
       " 11,\n",
       " 12,\n",
       " 13,\n",
       " 14,\n",
       " 15,\n",
       " 16,\n",
       " 17,\n",
       " 18,\n",
       " 19,\n",
       " 20,\n",
       " 21,\n",
       " 22,\n",
       " 23,\n",
       " 24,\n",
       " 25,\n",
       " 26,\n",
       " 27,\n",
       " 28,\n",
       " 29,\n",
       " 30,\n",
       " 200,\n",
       " 77706,\n",
       " 16532869712,\n",
       " 3230579689970657935732,\n",
       " 36802906522516375115639735990520502954652700]"
      ]
     },
     "execution_count": 33,
     "metadata": {},
     "output_type": "execute_result"
    }
   ],
   "source": [
    "nt.egyptian_fraction(4)"
   ]
  },
  {
   "cell_type": "code",
   "execution_count": 34,
   "metadata": {},
   "outputs": [
    {
     "name": "stdout",
     "output_type": "stream",
     "text": [
      "Liste des diviseurs de 744 :\n",
      "D(744) = [1, 2, 3, 4, 6, 8, 12, 24, 31, 62, 93, 124, 186, 248, 372]\n",
      "phi(1)= 1\n",
      "phi(2)= 1\n",
      "phi(3)= 2\n",
      "phi(4)= 2\n",
      "phi(6)= 2\n",
      "phi(8)= 4\n",
      "phi(12)= 4\n",
      "phi(24)= 8\n",
      "phi(31)= 30\n",
      "phi(62)= 30\n",
      "phi(93)= 60\n",
      "phi(124)= 60\n",
      "phi(186)= 60\n",
      "phi(248)= 120\n",
      "phi(372)= 120\n",
      "Somme de tous les phi(d|744) -sauf 744- = 504\n",
      "                D'où\n",
      "            phi(744) = 240\n"
     ]
    },
    {
     "name": "stderr",
     "output_type": "stream",
     "text": [
      "/srv/conda/envs/notebook/lib/python3.7/site-packages/ipykernel_launcher.py:22: DeprecationWarning: fractions.gcd() is deprecated. Use math.gcd() instead.\n"
     ]
    }
   ],
   "source": [
    "from math import sqrt\n",
    "from fractions import gcd\n",
    "\n",
    "def diviseurs(n):\n",
    "    D,racine=[1],int(sqrt(n))\n",
    "    fin=racine+1\n",
    "    for d in range(2,fin):\n",
    "        if n%d==0 :\n",
    "            D.extend([d,n//d])\n",
    "    D=sorted(set(D))\n",
    "    print(\"Liste des diviseurs de\",n,\":\")\n",
    "    print(\"D(\"+str(n)+\") =\",D)\n",
    "    print\n",
    "    return D\n",
    "\n",
    "def somme_indicatrices(n):\n",
    "    D=diviseurs(n)\n",
    "    S_phi=0\n",
    "    for d in D:\n",
    "        Nb_inf,p=range(1,d+1),0\n",
    "        for i in Nb_inf:\n",
    "            p+=(gcd(i,d)==1)\n",
    "        print(\"phi(\"+str(i)+\")=\",p)\n",
    "        S_phi+=p\n",
    "    print\n",
    "    print(\"Somme de tous les phi(d|\"+str(n)+\") -sauf\", str(n)+\"- =\", S_phi)\n",
    "    print(\"                D'où\")\n",
    "    print(\"            phi(\"+str(n)+\") =\",n-S_phi)\n",
    "\n",
    "    return\n",
    "\n",
    "n=744\n",
    "somme_indicatrices(n)"
   ]
  },
  {
   "cell_type": "code",
   "execution_count": 35,
   "metadata": {},
   "outputs": [
    {
     "data": {
      "text/plain": [
       "0.6547493281738876"
      ]
     },
     "execution_count": 35,
     "metadata": {},
     "output_type": "execute_result"
    }
   ],
   "source": [
    "np.log(1.92465999886543)"
   ]
  },
  {
   "cell_type": "code",
   "execution_count": 36,
   "metadata": {},
   "outputs": [
    {
     "data": {
      "text/plain": [
       "833754419030936017856102400000"
      ]
     },
     "execution_count": 36,
     "metadata": {},
     "output_type": "execute_result"
    }
   ],
   "source": [
    "# M group 1st generation product\n",
    "244823040*10200960*443520*95040*7920"
   ]
  },
  {
   "cell_type": "code",
   "execution_count": 37,
   "metadata": {},
   "outputs": [
    {
     "data": {
      "text/plain": [
       "68.89573640824204"
      ]
     },
     "execution_count": 37,
     "metadata": {},
     "output_type": "execute_result"
    }
   ],
   "source": [
    "import math\n",
    "math.log(833754419030936017856102400000)"
   ]
  },
  {
   "cell_type": "code",
   "execution_count": 38,
   "metadata": {},
   "outputs": [
    {
     "data": {
      "text/plain": [
       "941912478903965806285227616133789328922038636485363210649600000000000000000000"
      ]
     },
     "execution_count": 38,
     "metadata": {},
     "output_type": "execute_result"
    }
   ],
   "source": [
    "# J group 2eme generation product\n",
    "604800*44352000*898128000*448345497600*495766656000*42305421312000*4157776806543360000"
   ]
  },
  {
   "cell_type": "code",
   "execution_count": 39,
   "metadata": {},
   "outputs": [
    {
     "data": {
      "text/plain": [
       "179.541794334945"
      ]
     },
     "execution_count": 39,
     "metadata": {},
     "output_type": "execute_result"
    }
   ],
   "source": [
    "import math\n",
    "math.log(941912478903965806285227616133789328922038636485363210649600000000000000000000)"
   ]
  },
  {
   "cell_type": "code",
   "execution_count": 40,
   "metadata": {},
   "outputs": [
    {
     "data": {
      "text/plain": [
       "111099476928023251769906313382306090810627166051438614640057247606639021161506136324379476367721037604023298708200128566659872196397254179435878169549209600000000000000000000000000000000"
      ]
     },
     "execution_count": 40,
     "metadata": {},
     "output_type": "execute_result"
    }
   ],
   "source": [
    "# F group 3rd generation\n",
    "OM*OB*1255205709190661721292800*4089470473293004800*64561751654400*90745943887872000*273030912000000*4030387200"
   ]
  },
  {
   "cell_type": "code",
   "execution_count": 41,
   "metadata": {},
   "outputs": [
    {
     "data": {
      "text/plain": [
       "426.0834980064263"
      ]
     },
     "execution_count": 41,
     "metadata": {},
     "output_type": "execute_result"
    }
   ],
   "source": [
    "import math\n",
    "math.log(111099476928023251769906313382306090810627166051438614640057247606639021161506136324379476367721037604023298708200128566659872196397254179435878169549209600000000000000000000000000000000)"
   ]
  },
  {
   "cell_type": "code",
   "execution_count": 42,
   "metadata": {},
   "outputs": [
    {
     "data": {
      "text/plain": [
       "137.0983015825572"
      ]
     },
     "execution_count": 42,
     "metadata": {},
     "output_type": "execute_result"
    }
   ],
   "source": [
    "(426.0834980064263+179.541794334945+68.89573640824204)/math.log(137)"
   ]
  },
  {
   "cell_type": "code",
   "execution_count": 43,
   "metadata": {},
   "outputs": [
    {
     "data": {
      "text/plain": [
       "2663849798329448283764291471531459318169741293570162121768960000000000000"
      ]
     },
     "execution_count": 43,
     "metadata": {},
     "output_type": "execute_result"
    }
   ],
   "source": [
    "175560*50232960*86775571046077562880*145926144000*460815505920*51765179004000000"
   ]
  },
  {
   "cell_type": "code",
   "execution_count": 44,
   "metadata": {},
   "outputs": [
    {
     "data": {
      "text/plain": [
       "166.76589906465145"
      ]
     },
     "execution_count": 44,
     "metadata": {},
     "output_type": "execute_result"
    }
   ],
   "source": [
    "math.log(_)"
   ]
  },
  {
   "cell_type": "code",
   "execution_count": 45,
   "metadata": {},
   "outputs": [
    {
     "data": {
      "text/plain": [
       "137.0359990836958"
      ]
     },
     "execution_count": 45,
     "metadata": {},
     "output_type": "execute_result"
    }
   ],
   "source": [
    "a"
   ]
  },
  {
   "cell_type": "code",
   "execution_count": 46,
   "metadata": {},
   "outputs": [],
   "source": [
    "a=137.035999095"
   ]
  },
  {
   "cell_type": "code",
   "execution_count": 47,
   "metadata": {},
   "outputs": [
    {
     "data": {
      "text/plain": [
       "4.9202436584276805"
      ]
     },
     "execution_count": 47,
     "metadata": {},
     "output_type": "execute_result"
    }
   ],
   "source": [
    "math.log(137.035999095)"
   ]
  },
  {
   "cell_type": "code",
   "execution_count": 48,
   "metadata": {},
   "outputs": [
    {
     "data": {
      "text/plain": [
       "7.51542772318617"
      ]
     },
     "execution_count": 48,
     "metadata": {},
     "output_type": "execute_result"
    }
   ],
   "source": [
    "log(p)"
   ]
  },
  {
   "cell_type": "code",
   "execution_count": 49,
   "metadata": {},
   "outputs": [
    {
     "data": {
      "text/plain": [
       "Decimal('88.7228391116729966370257898233830928802490234375')"
      ]
     },
     "execution_count": 49,
     "metadata": {},
     "output_type": "execute_result"
    }
   ],
   "source": [
    "from decimal import Decimal\n",
    "import math\n",
    "Decimal(128*math.log(2))"
   ]
  },
  {
   "cell_type": "code",
   "execution_count": 50,
   "metadata": {},
   "outputs": [
    {
     "data": {
      "text/plain": [
       "Decimal('33.2406061354726176659823977388441562652587890625')"
      ]
     },
     "execution_count": 50,
     "metadata": {},
     "output_type": "execute_result"
    }
   ],
   "source": [
    "from decimal import Decimal\n",
    "import math\n",
    "Decimal(math.log(273030912000000))"
   ]
  },
  {
   "cell_type": "markdown",
   "metadata": {},
   "source": [
    "###  Calculus of $R$ radius with Eddington Number "
   ]
  },
  {
   "cell_type": "markdown",
   "metadata": {},
   "source": [
    "Example of heuristic Hubble radius calculus formula yielding 13.81198 Gyr (Just for fun :/ ):\n",
    "\n",
    "$$ƛ_e 2^{128}(240.log(2)^3)/80 - (573007.Catalan(37).\\pi^3)/3390.(\\log(\\log(\\pi^{11})))$$"
   ]
  },
  {
   "cell_type": "code",
   "execution_count": 51,
   "metadata": {},
   "outputs": [
    {
     "name": "stdout",
     "output_type": "stream",
     "text": [
      "1.30671477337639e+26\n"
     ]
    }
   ],
   "source": [
    "#13.8119768\n",
    "R_c=lambdabare*2**128*240*np.log(2)**3/80-(573007*sy.catalan(37)*np.pi**3)/3390*(np.log(np.log(np.pi**11)))\n",
    "print(R_c)"
   ]
  },
  {
   "cell_type": "code",
   "execution_count": 52,
   "metadata": {},
   "outputs": [
    {
     "data": {
      "text/plain": [
       "13.8119860529113"
      ]
     },
     "execution_count": 52,
     "metadata": {},
     "output_type": "execute_result"
    }
   ],
   "source": [
    "R_c/(constants.light_year*10**9)"
   ]
  },
  {
   "cell_type": "code",
   "execution_count": 53,
   "metadata": {},
   "outputs": [
    {
     "data": {
      "text/plain": [
       "45950804324621742364"
      ]
     },
     "execution_count": 53,
     "metadata": {},
     "output_type": "execute_result"
    }
   ],
   "source": [
    "sy.catalan(37)   #Catalan(37)"
   ]
  },
  {
   "cell_type": "code",
   "execution_count": 54,
   "metadata": {},
   "outputs": [
    {
     "data": {
      "text/plain": [
       "22611012258.21241"
      ]
     },
     "execution_count": 54,
     "metadata": {},
     "output_type": "execute_result"
    }
   ],
   "source": [
    "#11/394 # 0.027918781725888325\n",
    "#209/394 # 0.5304568527918782\n",
    "#11/500\n",
    "# 11/394*np.pi**2*np.log(2)+\n",
    "#5/197\n",
    "#-G_s*np.pi*np.log(2)**2\n",
    "(1/G_s*np.pi*np.log(2)**2)"
   ]
  },
  {
   "cell_type": "code",
   "execution_count": 55,
   "metadata": {},
   "outputs": [
    {
     "data": {
      "text/plain": [
       "5.37428748246100e+25"
      ]
     },
     "execution_count": 55,
     "metadata": {},
     "output_type": "execute_result"
    }
   ],
   "source": [
    "lambdabare*2**128*(236*np.𝑙𝑜𝑔(2)**3)/197-283/394*np.pi*np.𝑙𝑜𝑔(2)**2+11/394*np.pi**2*np.𝑙𝑜𝑔(2)+209/394*np.𝑙𝑜𝑔((np.sqrt(2))+1)**3-5/197+(573007*sy.catalan(37)*np.pi**2)/197"
   ]
  },
  {
   "cell_type": "code",
   "execution_count": 56,
   "metadata": {},
   "outputs": [
    {
     "data": {
      "text/plain": [
       "1.37179767731671e+38"
      ]
     },
     "execution_count": 56,
     "metadata": {},
     "output_type": "execute_result"
    }
   ],
   "source": [
    "2**128*(23*np.𝑙𝑜𝑔(2)**3)/19-283/394*np.pi*np.𝑙𝑜𝑔(2)**2+11/394*np.pi**2*np.𝑙𝑜𝑔(2)+209/394*np.𝑙𝑜𝑔((np.sqrt(2))+1)**3-5/197+(573007*sy.catalan(37)*np.pi**2)/1832"
   ]
  },
  {
   "cell_type": "code",
   "execution_count": 57,
   "metadata": {},
   "outputs": [
    {
     "data": {
      "text/plain": [
       "1.31139964129630e+26"
      ]
     },
     "execution_count": 57,
     "metadata": {},
     "output_type": "execute_result"
    }
   ],
   "source": [
    "lambdabare*2**128*(240*np.log(2)**3)/80-G_s*np.pi*np.log(2)**2+Gamma*np.log((np.sqrt(3))+(744*496))**3-(573007*sy.catalan(37)*np.pi**2)/1836"
   ]
  },
  {
   "cell_type": "code",
   "execution_count": 58,
   "metadata": {},
   "outputs": [
    {
     "data": {
      "text/plain": [
       "(x + I)**2"
      ]
     },
     "execution_count": 58,
     "metadata": {},
     "output_type": "execute_result"
    }
   ],
   "source": [
    "from sympy import I\n",
    "1+1*I\n",
    "(x+I)**2"
   ]
  },
  {
   "cell_type": "code",
   "execution_count": 59,
   "metadata": {},
   "outputs": [
    {
     "data": {
      "text/plain": [
       "3*sqrt(2)*sqrt(pi)*fresnels(sqrt(2)*x/sqrt(pi))*gamma(3/4)/(8*gamma(7/4))"
      ]
     },
     "execution_count": 59,
     "metadata": {},
     "output_type": "execute_result"
    }
   ],
   "source": [
    "import sympy as sy\n",
    " #   x=1\n",
    "sy.integrate(sy.sin(x**2),x)"
   ]
  },
  {
   "cell_type": "code",
   "execution_count": 60,
   "metadata": {},
   "outputs": [
    {
     "name": "stdout",
     "output_type": "stream",
     "text": [
      "Eq(1442897, x**2)\n",
      "1442897 = x^{2}\n"
     ]
    },
    {
     "data": {
      "text/plain": [
       "Eq(1442897, x**2)"
      ]
     },
     "execution_count": 60,
     "metadata": {},
     "output_type": "execute_result"
    }
   ],
   "source": [
    "eq=sy.Eq(y,x**2)\n",
    "print(eq)\n",
    "print(sy.latex(eq))\n",
    "eq"
   ]
  },
  {
   "cell_type": "code",
   "execution_count": 61,
   "metadata": {},
   "outputs": [
    {
     "data": {
      "text/plain": [
       "3/4"
      ]
     },
     "execution_count": 61,
     "metadata": {},
     "output_type": "execute_result"
    }
   ],
   "source": [
    "r1=sy.Rational(3,6)\n",
    "r2=sy.Rational(4,16)\n",
    "r1+r2"
   ]
  },
  {
   "cell_type": "code",
   "execution_count": 62,
   "metadata": {},
   "outputs": [
    {
     "data": {
      "text/plain": [
       "k + 9.22429021912069e+51*x**2 + 9.22429021912069e+51*x"
      ]
     },
     "execution_count": 62,
     "metadata": {},
     "output_type": "execute_result"
    }
   ],
   "source": [
    "sy.collect(i*x**2 + j*x**2 + i*x - j*x + k, x)"
   ]
  },
  {
   "cell_type": "code",
   "execution_count": 63,
   "metadata": {},
   "outputs": [
    {
     "data": {
      "text/plain": [
       "(z + 6.28318530717959)**2"
      ]
     },
     "execution_count": 63,
     "metadata": {},
     "output_type": "execute_result"
    }
   ],
   "source": [
    "y=(x+pi)**2\n",
    "y.subs(x,z+pi)"
   ]
  },
  {
   "cell_type": "code",
   "execution_count": 64,
   "metadata": {},
   "outputs": [
    {
     "data": {
      "text/plain": [
       "x**3 + 3*x**2 + 3*x + 1"
      ]
     },
     "execution_count": 64,
     "metadata": {},
     "output_type": "execute_result"
    }
   ],
   "source": [
    "expr=(1+x)**3;\n",
    "a=expr.expand()\n",
    "a"
   ]
  },
  {
   "cell_type": "code",
   "execution_count": 65,
   "metadata": {},
   "outputs": [
    {
     "name": "stdout",
     "output_type": "stream",
     "text": [
      "[(3+3j), (3+3j)]\n",
      "[4j, 4j]\n",
      "[(0.8+0.6j), (0.8+0.6j)]\n",
      "[(-1.6401010184280038+0.202050398556709j), (-1.6401010184280038+0.202050398556709j)]\n",
      "[(8+0j), (8+0j)]\n",
      "(1.0000000000000002+1j)\n",
      "(1+1j)\n"
     ]
    }
   ],
   "source": [
    "# complex arith for programming with other languages\n",
    "# - required functions: exp(f), log(f), sin(f), cos(f), atan2(f), pow(f1, f2)\n",
    "import math\n",
    "\n",
    "\n",
    "# [equality for complex]\n",
    "def ceq(a, b):\n",
    "    return a.real == b.real and a.imag == b.imag\n",
    "\n",
    "# [add, sub, mul for complex]\n",
    "def cadd(a, b):\n",
    "    a, b = complex(a), complex(b)\n",
    "    return (a.real + b.real) + (a.imag + b.imag) * 1j\n",
    "\n",
    "def csub(a, b):\n",
    "    a, b = complex(a), complex(b)\n",
    "    return (a.real - b.real) + (a.imag - b.imag) * 1j\n",
    "\n",
    "def cmul(a, b):\n",
    "    a, b = complex(a), complex(b)\n",
    "    real = a.real * b.real - a.imag * b.imag\n",
    "    imag = a.real * b.imag + a.imag * b.real\n",
    "    return real + imag * 1j\n",
    "\n",
    "print([cadd(1+1j, 2+2j), (1+1j) + (2+2j)])\n",
    "print([cmul(1+1j, 2+2j), (1+1j) * (2+2j)])\n",
    "\n",
    "\n",
    "# [div for complex]\n",
    "def conj(c):\n",
    "    c = complex(c)\n",
    "    return c.real - c.imag * 1j\n",
    "def norm(c):\n",
    "    c = complex(c)\n",
    "    return c.real * c.real + c.imag * c.imag\n",
    "def cinv(c):\n",
    "    c = complex(c)\n",
    "    # 1/(a+i*b) = (a-i*b)/[(a+i*b)*(a-i*b)]\n",
    "    #           = (a-i*b)/(a*a + b*b)\n",
    "    base = norm(c)\n",
    "    return (c.real / base) - (c.imag / base) * 1j\n",
    "\n",
    "def cdiv(a, b):\n",
    "    #return cmul(a, cinv(b))\n",
    "    base = norm(b)\n",
    "    c = cmul(a, conj(b))\n",
    "    return (c.real / base) + (c.imag / base) * 1j\n",
    "\n",
    "print([cdiv(1+2j, 2+1j), (1+2j) / (2+1j)])\n",
    "\n",
    "\n",
    "# [pow for complex]\n",
    "def c2p(c):\n",
    "    c = complex(c)\n",
    "    r = math.pow(norm(c), 0.5)\n",
    "    theta = math.atan2(c.imag, c.real)\n",
    "    return r, theta # \"r\" and \"theta\" also called as \"abs\" and \"arg\"\n",
    "def p2c(r, theta):\n",
    "    return r * math.cos(theta) + r * math.sin(theta) * 1j\n",
    "\n",
    "def cpow(a, b):\n",
    "    r, t = c2p(a)\n",
    "    b = complex(b)\n",
    "    c, d = b.real, b.imag\n",
    "    # a^b = (r*exp(i*t))^(c+i*d)\n",
    "    #     = r^(c+i*d) * (exp(i*t))^(c+i*d)\n",
    "    #     = r^c * r^(i*d) * exp(-d*t + i*c*t)\n",
    "    #     = r^c * exp(log(r) * i*d) * exp(-d*t + i*c*t)\n",
    "    #     = r^c * exp(log(r) * i*d -d*t + i*c*t)\n",
    "    #     = r^c * exp(-d*t) * exp(i*(d*log(r) + c*t))\n",
    "    #     = r^c * exp(-d*t) * [cos(d*log(r) + c*t) + i*sin(d*log(r) + c*t)]\n",
    "    R = math.pow(r, c) * math.exp(-d * t)\n",
    "    T = d * math.log(r) + c * t\n",
    "    return p2c(R, T)\n",
    "\n",
    "print([cpow(1+2j, 2+1j), (1+2j) ** (2+1j)])\n",
    "print([cpow(2, 3), (2+0j) ** (3+0j)])\n",
    "\n",
    "\n",
    "# [exp, log for complex]\n",
    "def cexp(c):\n",
    "    #return cpow(math.e, c)\n",
    "    # exp(a+i*b) = exp(a) * exp(i*b)\n",
    "    #            = exp(a) * [cos(b) + i*sin(b)]\n",
    "    c = complex(c)\n",
    "    return p2c(math.exp(c.real), c.imag)\n",
    "    \n",
    "def clog(c, n=0):\n",
    "    r, t = c2p(c)\n",
    "    # log(r*exp(i*t)) = log(r) + log(exp(i*t))\n",
    "    #                 = log(r) + i*(t + 2*PI*n)\n",
    "    # (n = ..., -2, -1, 0, +1, +2, ...)\n",
    "    return math.log(r) + (t + 2 * n * math.pi) * 1j\n",
    " \n",
    "print(cexp(clog(1+1j)))\n",
    "print(clog(cexp(1+1j)))\n",
    "\n",
    "# [Riemann sphere projection (single infinity)]\n",
    "def cproj(c):\n",
    "    inf = float(\"inf\")\n",
    "    if c.real == inf or c.real == -inf or c.imag == inf or c.imag == -inf:\n",
    "        return complex(\"inf\")\n",
    "    return c"
   ]
  },
  {
   "cell_type": "code",
   "execution_count": null,
   "metadata": {},
   "outputs": [],
   "source": [
    "# plotting zeta function on complex plane\n",
    "\n",
    "\n",
    "# [zeta function impl]\n",
    "from itertools import count, islice\n",
    "\n",
    "def binom(n, k):\n",
    "    v = 2\n",
    "    for i in range(k):\n",
    "        v *= (n - i) / (i + 1)\n",
    "    return v\n",
    "\n",
    "\n",
    "def zeta(s, t=10):\n",
    "    if s == 1: return complex(\"inf\")\n",
    "    term = (1 / 2 ** (n + 1) * sum((-1) ** k * binom(n, k) * (k + 1) ** -s \n",
    "                                   for k in range(n + 1)) for n in count(0))\n",
    "    return sum(islice(term, t)) / (1 - 2 ** (1 - s))\n",
    "\n",
    "\n",
    "# [correct data with numpy]\n",
    "import numpy\n",
    "\n",
    "x = numpy.arange(-3, 3, 0.1)\n",
    "y = numpy.arange(-30, 30, 1)\n",
    "X, Y = numpy.meshgrid(x, y)\n",
    "\n",
    "@numpy.vectorize\n",
    "def z(real, imag):\n",
    "    r = zeta(real + imag * 1j).real\n",
    "    return min(max(-12, r), 12)\n",
    "\n",
    "Z = z(X, Y)\n",
    "#print(Z)"
   ]
  },
  {
   "cell_type": "code",
   "execution_count": null,
   "metadata": {},
   "outputs": [],
   "source": [
    "# [plot with matplotlib]\n",
    "from mpl_toolkits.mplot3d import Axes3D\n",
    "from matplotlib import pyplot, cm\n",
    "\n",
    "fig = pyplot.figure()\n",
    "ax = fig.gca(projection=\"3d\")\n",
    "surf = ax.plot_surface(X, Y, Z, rstride=1, cstride=1, cmap=cm.coolwarm, \n",
    "                       linewidth=0, antialiased=False)\n",
    "ax.set_zlim(-12, 12)\n",
    "\n",
    "\n",
    "pyplot.show()"
   ]
  },
  {
   "cell_type": "code",
   "execution_count": null,
   "metadata": {},
   "outputs": [],
   "source": [
    "def euler(x):\n",
    "    return (1+1/x)**x\n",
    "\n",
    "for i in range(14):\n",
    "    print(euler(14**i))"
   ]
  },
  {
   "cell_type": "code",
   "execution_count": null,
   "metadata": {},
   "outputs": [],
   "source": []
  },
  {
   "cell_type": "code",
   "execution_count": null,
   "metadata": {},
   "outputs": [],
   "source": []
  },
  {
   "cell_type": "code",
   "execution_count": null,
   "metadata": {},
   "outputs": [],
   "source": []
  }
 ],
 "metadata": {
  "kernelspec": {
   "display_name": "Python 3",
   "language": "python",
   "name": "python3"
  },
  "language_info": {
   "codemirror_mode": {
    "name": "ipython",
    "version": 3
   },
   "file_extension": ".py",
   "mimetype": "text/x-python",
   "name": "python",
   "nbconvert_exporter": "python",
   "pygments_lexer": "ipython3",
   "version": "3.7.6"
  }
 },
 "nbformat": 4,
 "nbformat_minor": 1
}
