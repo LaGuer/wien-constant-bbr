{
 "cells": [
  {
   "cell_type": "markdown",
   "metadata": {},
   "source": [
    "# Wien Constant and Black Body Radiation"
   ]
  },
  {
   "cell_type": "code",
   "execution_count": 1,
   "metadata": {},
   "outputs": [
    {
     "name": "stderr",
     "output_type": "stream",
     "text": [
      "UsageError: Line magic function `%version_information` not found.\n"
     ]
    }
   ],
   "source": [
    "\n",
    "%matplotlib inline\n",
    "#from __future__ import division\n",
    "import scipy as sci\n",
    "import scipy.special as sp\n",
    "import numpy as np\n",
    "import matplotlib\n",
    "import matplotlib.pyplot as plt\n",
    "from mpl_toolkits.mplot3d import Axes3D\n",
    "from matplotlib import cm, colors\n",
    "\n",
    "# This IPython magic generates a table with version information\n",
    "#https://github.com/jrjohansson/version_information\n",
    "#%load_ext version_information\n",
    "%version_information scipy, numpy, matplotlib"
   ]
  },
  {
   "cell_type": "code",
   "execution_count": null,
   "metadata": {},
   "outputs": [],
   "source": [
    "# !pip install latex\n",
    "!pip install AstroML\n",
    "!pip install healpy\n",
    "!pip install quantities"
   ]
  },
  {
   "cell_type": "code",
   "execution_count": 7,
   "metadata": {},
   "outputs": [
    {
     "name": "stderr",
     "output_type": "stream",
     "text": [
      "/srv/conda/envs/notebook/lib/python3.7/site-packages/ipykernel_launcher.py:31: DeprecationWarning: scipy.real_if_close is deprecated and will be removed in SciPy 2.0.0, use numpy.real_if_close instead\n"
     ]
    },
    {
     "data": {
      "image/png": "[encoded data removed]",
      "text/plain": [
       "<Figure size 432x288 with 1 Axes>"
      ]
     },
     "metadata": {
      "needs_background": "light"
     },
     "output_type": "display_data"
    }
   ],
   "source": [
    "from numpy import abs,arccos,linspace,array,pi\n",
    "from cmath import sqrt,sin,cos,cosh,sinh\n",
    "from scipy import real_if_close\n",
    "import matplotlib.pyplot as plt\n",
    "import numpy as np\n",
    "import scipy\n",
    "from ipywidgets import interact\n",
    "%matplotlib inline\n",
    "\n",
    "hbar = 1.05457*10**-34 \n",
    "echarge = 1.602*10**-19\n",
    "emass = 9.109*10**-31 \n",
    "\n",
    "def bandfunc(a,b,energy,v0):\n",
    "    #b is the width of the potential barriers and a is the distance between them\n",
    "    #energy is the value of energy in ElectronVolts that we are solving for\n",
    "    #v0 is the height of the potential barriers in ElectronVolts\n",
    "    if(energy==v0):\n",
    "        return(None)\n",
    "    result = None\n",
    "    energy = energy*echarge\n",
    "    v0 = v0*echarge\n",
    "    b = b*10**-10\n",
    "    a = a*10**-10\n",
    "    \n",
    "    alpha = sqrt((2*emass/hbar**2)*energy)\n",
    "    beta = sqrt(2*emass*(v0-energy)/hbar**2)\n",
    "    AlphaBeta_term = (beta**2 - alpha**2) /(2*alpha*beta)\n",
    "    trace = cos(alpha*a)*cosh(beta*b) + AlphaBeta_term*sin(alpha*a)*sinh(beta*b)\n",
    "    if abs(trace) < 1:\n",
    "        result = real_if_close(arccos(trace))\n",
    "    return(result)\n",
    "    \n",
    "\n",
    "def plotband(v0 = 6,a = 2.5,b = 2.5):\n",
    "    energy_array = linspace(0.1,30,5000)\n",
    "    #Calulate the positive k values\n",
    "    k_vals = array([bandfunc(a,b,energy,v0) for energy in energy_array])\n",
    "    #The negative k-values are just a mirror image of the positive ones\n",
    "    neg_k_vals = array([-k if k is not None else None for k in k_vals])\n",
    "    #generate the plot\n",
    "    plt.plot(k_vals,energy_array,'b');\n",
    "    plt.plot(neg_k_vals,energy_array,'b');\n",
    "    plt.axis([-pi,pi, 0,30])\n",
    "    plt.xlabel('Wavevector k(a+b)')\n",
    "    plt.ylabel('Energy (eV)')\n",
    "\n",
    "plotband(6,2.5,2.5)"
   ]
  },
  {
   "cell_type": "markdown",
   "metadata": {},
   "source": [
    "Alternatively, we can allow the students to interact with the model using sliders. No need for them to modify the code. Note that the calculations are being preformed in real time!"
   ]
  },
  {
   "cell_type": "markdown",
   "metadata": {},
   "source": [
    "interact(plotband,\n",
    "         v0=(0,10,0.1),\n",
    "         a=(0,5,0.1),\n",
    "         b=(0,5,0.1),\n",
    "        );"
   ]
  },
  {
   "cell_type": "markdown",
   "metadata": {},
   "source": [
    "# spherical harmonics in Python SciPy"
   ]
  },
  {
   "cell_type": "code",
   "execution_count": 25,
   "metadata": {},
   "outputs": [
    {
     "data": {
      "text/plain": [
       "(0.02842897832840588+0.40088896207789526j)"
      ]
     },
     "execution_count": 25,
     "metadata": {},
     "output_type": "execute_result"
    }
   ],
   "source": [
    "import scipy as sci\n",
    "import scipy.special as sp\n",
    "#Example to calculate Y_4^2\n",
    "l = 4\n",
    "m = 2\n",
    "theta, phi = 0.6, 0.75    # Some arbitrary values of angles in radians\n",
    "Y42 = sp.sph_harm(m, l, phi, theta) # sph_harm\n",
    "Y42"
   ]
  },
  {
   "cell_type": "code",
   "execution_count": 26,
   "metadata": {},
   "outputs": [
    {
     "data": {
      "text/plain": [
       "9.01048783752695"
      ]
     },
     "execution_count": 26,
     "metadata": {},
     "output_type": "execute_result"
    }
   ],
   "source": [
    "z = np.cos(theta)\n",
    "P42 = sp.lpmv(m,l,z)\n",
    "P42"
   ]
  },
  {
   "cell_type": "code",
   "execution_count": 27,
   "metadata": {},
   "outputs": [
    {
     "data": {
      "text/plain": [
       "0.044603102903819275"
      ]
     },
     "execution_count": 27,
     "metadata": {},
     "output_type": "execute_result"
    }
   ],
   "source": [
    "f = sci.math.factorial\n",
    "K_norm = np.sqrt((2*l+1)/(4 * np.pi) * f(l-m)/f(l+m))\n",
    "K_norm"
   ]
  },
  {
   "cell_type": "code",
   "execution_count": 28,
   "metadata": {},
   "outputs": [
    {
     "data": {
      "text/plain": [
       "True"
      ]
     },
     "execution_count": 28,
     "metadata": {},
     "output_type": "execute_result"
    }
   ],
   "source": [
    "K_norm * P42* np.exp(m*phi*1j) == Y42"
   ]
  },
  {
   "cell_type": "code",
   "execution_count": 29,
   "metadata": {},
   "outputs": [],
   "source": [
    "from numpy import abs,arccos,linspace,array,pi\n",
    "from cmath import sqrt,sin,cos,cosh,sinh\n",
    "from scipy import real_if_close\n",
    "import matplotlib.pyplot as plt\n",
    "import sympy as sp\n",
    "import scipy as sci\n",
    "from ipywidgets import interact"
   ]
  },
  {
   "cell_type": "code",
   "execution_count": 30,
   "metadata": {},
   "outputs": [],
   "source": [
    "def dotprod(f,g):\n",
    "    #Scipy does not directly integrates complex functions.\n",
    "    #You have to break them down into two integrals of the real and imaginary part\n",
    "    integrand_r = lambda theta, phi: np.real(f(theta, phi) * np.conj(g(theta, phi)) * np.sin(theta))\n",
    "    integrand_i = lambda theta, phi: np.imag(f(theta, phi) * np.conj(g(theta, phi)) * np.sin(theta))\n",
    "    ##rr = sci.integrate.dblquad(integrand_r, 0, 2 * np.pi,lambda theta: 0, lambda theta: np.pi)[0]\n",
    "    rr = sci.integrate.dblquad(integrand_r, 0, 2 * np.pi,lambda theta: 0, lambda theta: np.pi)[0]\n",
    "    ri = sci.integrate.dblquad(integrand_i, 0, 2 * np.pi,lambda theta: 0, lambda theta: np.pi)[0]\n",
    "    if np.allclose(rr,0):\n",
    "        rr = 0\n",
    "    if np.allclose(ri,0):\n",
    "        ri=0\n",
    "    return rr + ri*1j"
   ]
  },
  {
   "cell_type": "code",
   "execution_count": null,
   "metadata": {},
   "outputs": [],
   "source": [
    "# We check the orthogonality of the spherical harmonics:\n",
    "# Si (l,m) =! (l',m') the inner product must be zero\n",
    "Y = lambda l, m, theta, phi: sp.sph_harm(m, l, phi, theta)\n",
    "f = lambda theta, phi: Y(4,3,theta, phi) \n",
    "g = lambda theta, phi: Y(4,2,theta, phi) \n",
    "dotprod(f,g)"
   ]
  },
  {
   "cell_type": "code",
   "execution_count": 48,
   "metadata": {},
   "outputs": [],
   "source": [
    "import scipy as sci\n",
    "import scipy.special as sp\n",
    "l = 4    #degree\n",
    "m = 2    # order\n",
    "PHI, THETA = np.mgrid[0:2*np.pi:200j, 0:np.pi:100j] #arrays of angular variables\n",
    "R = np.abs(sp.sph_harm(m, l, PHI, THETA)) #Array with the absolute values of Ylm\n",
    "#Now we convert to cartesian coordinates\n",
    "# for the 3D representation\n",
    "X = R * np.sin(THETA) * np.cos(PHI)\n",
    "Y = R * np.sin(THETA) * np.sin(PHI)\n",
    "Z = R * np.cos(THETA)"
   ]
  },
  {
   "cell_type": "code",
   "execution_count": null,
   "metadata": {},
   "outputs": [],
   "source": [
    "from numpy import abs,arccos,linspace,array,pi\n",
    "from cmath import sqrt,sin,cos,cosh,sinh\n",
    "from scipy import real_if_close\n",
    "import matplotlib.pyplot as plt\n",
    "import matplotlib\n",
    "import numpy as np\n",
    "import scipy as sci\n",
    "import scipy.special as sp\n",
    "from ipywidgets import interact"
   ]
  },
  {
   "cell_type": "code",
   "execution_count": null,
   "metadata": {},
   "outputs": [],
   "source": [
    "\n",
    "# %matplotlib inline\n",
    "N = R/R.max()    # Normalize R for the plot colors to cover the entire range of colormap.\n",
    "fig, ax = plt.subplots(subplot_kw=dict(projection='3d'), figsize=(12,10))\n",
    "im = ax.plot_surface(X, Y, Z, rstride=1, cstride=1, facecolors=cm.jet(N))\n",
    "ax.set_title(r'$|Y^2_ 4|$', fontsize=20)\n",
    "m = cm.ScalarMappable(cmap=cm.jet)\n",
    "m.set_array(R)    # Assign the unnormalized data array to the mappable\n",
    "                  #so that the scale corresponds to the values of R\n",
    "fig.colorbar(m, shrink=0.8);"
   ]
  },
  {
   "cell_type": "code",
   "execution_count": null,
   "metadata": {},
   "outputs": [],
   "source": [
    "l = 4    # degree\n",
    "m = 2    # order\n",
    "PHI, THETA = np.mgrid[0:2*np.pi:200j, 0:np.pi:100j]\n",
    "R = sp.sph_harm(m, l, PHI, THETA).real\n",
    "\n",
    "X = R * np.sin(THETA) * np.cos(PHI)\n",
    "Y = R * np.sin(THETA) * np.sin(PHI)\n",
    "Z = R * np.cos(THETA)\n",
    "\n",
    "#As R has negative values, we'll use an instance of Normalize\n",
    "#see http://stackoverflow.com/questions/25023075/normalizing-colormap-used-by-facecolors-in-matplotlib\n",
    "norm = colors.Normalize()\n",
    "fig, ax = plt.subplots(subplot_kw=dict(projection='3d'), figsize=(14,10))\n",
    "m = cm.ScalarMappable(cmap=cm.jet)\n",
    "ax.plot_surface(X, Y, Z, rstride=1, cstride=1, facecolors=cm.jet(norm(R)))\n",
    "ax.set_title('real$(Y^2_ 4)$', fontsize=20)\n",
    "m.set_array(R)\n",
    "fig.colorbar(m, shrink=0.8);"
   ]
  },
  {
   "cell_type": "code",
   "execution_count": null,
   "metadata": {},
   "outputs": [],
   "source": [
    "l = 4    # degree\n",
    "m = 2    # order\n",
    "PHI, THETA = np.mgrid[0:2*np.pi:300j, 0:np.pi:150j]\n",
    "R = sp.sph_harm(m, l, PHI, THETA).real\n",
    "\n",
    "s = 1\n",
    "X = (s*R+1) * np.sin(THETA) * np.cos(PHI)\n",
    "Y = (s*R+1) * np.sin(THETA) * np.sin(PHI)\n",
    "Z = (s*R+1) * np.cos(THETA)\n",
    "\n",
    "norm = colors.Normalize()\n",
    "fig, ax = plt.subplots(subplot_kw=dict(projection='3d'), figsize=(14,10))\n",
    "m = cm.ScalarMappable(cmap=cm.jet)\n",
    "ax.plot_surface(X, Y, Z, rstride=1, cstride=1, facecolors=cm.jet(norm(R)))\n",
    "ax.set_title('1 + real$(Y^2_ 4)$', fontsize=20)\n",
    "m.set_array(R)\n",
    "fig.colorbar(m, shrink=0.8);"
   ]
  },
  {
   "cell_type": "code",
   "execution_count": 39,
   "metadata": {},
   "outputs": [],
   "source": [
    "\n",
    "# Coordinate arrays for the graphical representation\n",
    "x = np.linspace(-np.pi, np.pi, 100)\n",
    "y = np.linspace(-np.pi/2, np.pi/2, 50)\n",
    "X, Y = np.meshgrid(x, y)\n",
    "\n",
    "# Spherical coordinate arrays derived from x, y\n",
    "# Necessary conversions to get Mollweide right\n",
    "phi = x.copy()    # physical copy\n",
    "phi[x < 0] = 2 * np.pi + x[x<0]\n",
    "theta = np.pi/2 - y\n",
    "PHI, THETA = np.meshgrid(phi, theta)"
   ]
  },
  {
   "cell_type": "code",
   "execution_count": 40,
   "metadata": {},
   "outputs": [],
   "source": [
    "l = 4\n",
    "m = 2\n",
    "SH_SP = sp.sph_harm(m, l, PHI, THETA).real    # Plot just the real part"
   ]
  },
  {
   "cell_type": "code",
   "execution_count": 43,
   "metadata": {},
   "outputs": [],
   "source": [
    "import matplotlib.pyplot as plt\n",
    "import numpy as np\n",
    "import scipy as sci\n",
    "import scipy.special as sp\n",
    "from ipywidgets import interact"
   ]
  },
  {
   "cell_type": "code",
   "execution_count": null,
   "metadata": {},
   "outputs": [],
   "source": []
  },
  {
   "cell_type": "code",
   "execution_count": 45,
   "metadata": {},
   "outputs": [],
   "source": [
    "import matplotlib\n",
    "#import numpy as np\n",
    "#import scipy as sci\n",
    "#import scipy.special as sp\n",
    "#from ipywidgets import interact\n",
    "#This is to enable bold Latex symbols in the matplotlib titles, according to:\n",
    "#http://stackoverflow.com/questions/14324477/bold-font-weight-for-latex-axes-label-in-matplotlib\n",
    "matplotlib.rc('text', usetex=True)\n",
    "matplotlib.rcParams['text.latex.preamble']=[r\"\\usepackage{amsmath}\"]"
   ]
  },
  {
   "cell_type": "code",
   "execution_count": null,
   "metadata": {},
   "outputs": [],
   "source": [
    "xlabels = ['$210^\\circ$', '$240^\\circ$','$270^\\circ$','$300^\\circ$','$330^\\circ$',\n",
    "           '$0^\\circ$', '$30^\\circ$', '$60^\\circ$', '$90^\\circ$','$120^\\circ$', '$150^\\circ$']\n",
    "\n",
    "ylabels = ['$165^\\circ$', '$150^\\circ$', '$135^\\circ$', '$120^\\circ$', \n",
    "           '$105^\\circ$', '$90^\\circ$', '$75^\\circ$', '$60^\\circ$',\n",
    "           '$45^\\circ$','$30^\\circ$','$15^\\circ$']\n",
    "\n",
    "fig, ax = plt.subplots(subplot_kw=dict(projection='mollweide'), figsize=(10,8))\n",
    "im = ax.pcolormesh(X, Y , SH_SP)\n",
    "ax.set_xticklabels(xlabels, fontsize=14)\n",
    "ax.set_yticklabels(ylabels, fontsize=14)\n",
    "ax.set_title('real$(Y^2_ 4)$', fontsize=20)\n",
    "ax.set_xlabel(r'$\\boldsymbol \\phi$', fontsize=20)\n",
    "ax.set_ylabel(r'$\\boldsymbol{\\theta}$', fontsize=20)\n",
    "ax.grid()\n",
    "fig.colorbar(im, orientation='horizontal');"
   ]
  },
  {
   "cell_type": "code",
   "execution_count": 53,
   "metadata": {},
   "outputs": [],
   "source": [
    "%matplotlib inline\n",
    "\n",
    "#from __future__ import division\n",
    "\n",
    "import quantities as pq\n",
    "import numpy as np\n",
    "import matplotlib.pyplot as plt\n"
   ]
  },
  {
   "cell_type": "code",
   "execution_count": 54,
   "metadata": {},
   "outputs": [
    {
     "name": "stdout",
     "output_type": "stream",
     "text": [
      "UnitConstant('Planck_constant', 6.62606896e-34 * s*J, 'h')\n",
      "UnitConstant('Boltzmann_constant', 1.3806504e-23 * J/K, 'k')\n"
     ]
    }
   ],
   "source": [
    "print(repr(pq.constants.Planck_constant))\n",
    "print(repr(pq.constants.Boltzmann_constant))"
   ]
  },
  {
   "cell_type": "code",
   "execution_count": 55,
   "metadata": {},
   "outputs": [],
   "source": [
    "def B(wl,T):\n",
    "    '''wl is an array of wavelengths with units of length\n",
    "    T is a temperature in Kelvin\n",
    "    the result is an array of s.r. with units W/(m**2 * nm * sr)\n",
    "    '''\n",
    "    I = 2 * pq.constants.h * (pq.c)**2 / wl**5 *  \\\n",
    "        1 / (np.exp((pq.constants.h*pq.c \\\n",
    "        / (wl*pq.constants.k*T)).simplified)-1)\n",
    "    return I.rescale(pq.watt/(pq.m**2 * pq.nm *pq.sr))"
   ]
  },
  {
   "cell_type": "code",
   "execution_count": 56,
   "metadata": {},
   "outputs": [
    {
     "data": {
      "text/plain": [
       "array(26421.6296097) * W/(m**2*nm*sr)"
      ]
     },
     "execution_count": 56,
     "metadata": {},
     "output_type": "execute_result"
    }
   ],
   "source": [
    "B( 5000 *pq.angstrom, 5780 *pq.K)"
   ]
  },
  {
   "cell_type": "code",
   "execution_count": 57,
   "metadata": {},
   "outputs": [],
   "source": [
    "T1 = 4000 * pq.Kelvin\n",
    "T2 = 5000 * pq.Kelvin\n",
    "T3 = 6000 * pq.Kelvin\n",
    "T4 = 7000 * pq.Kelvin"
   ]
  },
  {
   "cell_type": "code",
   "execution_count": null,
   "metadata": {},
   "outputs": [],
   "source": [
    "wl = np.arange(10,2000,10) * pq.nm\n",
    "fig, ax = plt.subplots(figsize=(12, 8))\n",
    "ax.plot(wl, B(wl,T4), label='7000K')\n",
    "ax.plot(wl, B(wl,T3), label='6000K')\n",
    "ax.plot(wl, B(wl,T2), label='5000K')\n",
    "ax.plot(wl, B(wl,T1), label='4000K')\n",
    "ax.legend()\n",
    "ax.set_title('Blackbody radiation')\n",
    "ax.title.set_fontsize(20)\n",
    "ax.set_xlabel('wavelength in nm')\n",
    "ax.xaxis.label.set_fontsize(15)\n",
    "ax.set_ylabel('spectral radiance $(W m^{-2}nm^{-1}sr^{-1})$')\n",
    "ax.yaxis.label.set_fontsize(15)\n",
    "ax.axvspan(0,400,facecolor = 'violet',alpha = 0.6)\n",
    "ax.axvspan(400,700, facecolor='yellow', alpha = 0.5)\n",
    "ax.axvspan(700,2000, facecolor ='red', alpha = 0.3)\n",
    "ax.text(150,6e4, 'UV', fontsize=30, color = 'b')\n",
    "ax.text(1200,6e4, 'IR', fontsize=30, color = 'r')\n",
    "ax.text(420,6e4, 'VISIBLE', fontsize=20, color = 'green');"
   ]
  },
  {
   "cell_type": "code",
   "execution_count": 59,
   "metadata": {},
   "outputs": [
    {
     "name": "stdout",
     "output_type": "stream",
     "text": [
      "UnitConstant('Wien_wavelength_displacement_law_constant', 0.0028977685 * m*K, 'b')\n"
     ]
    }
   ],
   "source": [
    "print(repr(pq.constants.b))"
   ]
  },
  {
   "cell_type": "code",
   "execution_count": 60,
   "metadata": {},
   "outputs": [
    {
     "name": "stdout",
     "output_type": "stream",
     "text": [
      "3219 Angstrom\n"
     ]
    }
   ],
   "source": [
    "l_max = pq.constants.b/(9000 * pq.K)\n",
    "print('%d Angstrom' %l_max.rescale(pq.angstrom))"
   ]
  },
  {
   "cell_type": "code",
   "execution_count": 61,
   "metadata": {},
   "outputs": [
    {
     "name": "stdout",
     "output_type": "stream",
     "text": [
      "Its effective temperature will be: 7244 K\n"
     ]
    }
   ],
   "source": [
    "# Suppose that the radiation from a star has its maximum intensity at 400 nm\n",
    "\n",
    "lmax  = 400 * pq.nm\n",
    "\n",
    "T = pq.constants.b / lmax\n",
    "\n",
    "print(\"Its effective temperature will be: %d K\" %T.simplified)"
   ]
  },
  {
   "cell_type": "code",
   "execution_count": 62,
   "metadata": {},
   "outputs": [
    {
     "name": "stdout",
     "output_type": "stream",
     "text": [
      "1 sigma (Stefan_Boltzmann_constant) = 5.6704e-08 kg/(s**3*K**4)\n"
     ]
    }
   ],
   "source": [
    "print(pq.constants.sigma, '=', pq.constants.sigma.simplified)"
   ]
  },
  {
   "cell_type": "code",
   "execution_count": 63,
   "metadata": {},
   "outputs": [
    {
     "name": "stdout",
     "output_type": "stream",
     "text": [
      "5779.047122922552 K\n"
     ]
    }
   ],
   "source": [
    "# We will need the value of the radius of the Sun:\n",
    "sun_radius = 695000000.0 * pq.m\n",
    "\n",
    "l_sun = 3.839e26 * pq.watt\n",
    "\n",
    "temp_sun = (l_sun/(4 * np.pi * sun_radius**2 * pq.constants.sigma))**(1./4)\n",
    "print (temp_sun.simplified)"
   ]
  },
  {
   "cell_type": "code",
   "execution_count": 64,
   "metadata": {},
   "outputs": [
    {
     "name": "stdout",
     "output_type": "stream",
     "text": [
      "0.0010632062006971199 m\n"
     ]
    }
   ],
   "source": [
    "TCMB = 2.7255 *pq.K\n",
    "lmax = pq.constants.b / TCMB\n",
    "print (lmax.simplified)"
   ]
  },
  {
   "cell_type": "code",
   "execution_count": null,
   "metadata": {},
   "outputs": [],
   "source": [
    "wl = np.arange(0.1,10,0.1) * pq.mm\n",
    "I = B(wl,TCMB).rescale(pq.watt/(pq.m**2 * pq.mm * pq.sr))\n",
    "fig, ax = plt.subplots(figsize=(10, 8))\n",
    "ax.plot(wl, I*1e7)\n",
    "ax.set_title('Blackbody spectrum at T = 2.7255 K \\\n",
    "\\n (wavelength in mm)')\n",
    "ax.title.set_fontsize(20)\n",
    "ax.set_xlabel('Wavelength in mm')\n",
    "ax.xaxis.label.set_fontsize(15)\n",
    "ax.set_ylabel('Spectral Radiance ($10^{-7} W m^{-2} mm^{-1} sr^{-1}$)')\n",
    "ax.yaxis.label.set_fontsize(15)\n",
    "ax.grid()"
   ]
  },
  {
   "cell_type": "code",
   "execution_count": 67,
   "metadata": {},
   "outputs": [],
   "source": [
    "def B_f(wf,T):\n",
    "    '''wf is an array of frequencies with units in GHz\n",
    "    T is a temperature in Kelvin.\n",
    "    It returns an array of spectral radiances \n",
    "    with units W/(m**2 x GHz x sr)\n",
    "    '''\n",
    "    wf = wf.rescale(pq.hertz)\n",
    "    I = 2 * pq.constants.h * wf**3 / pq.c**2 * 1 \\\n",
    "        / (np.exp((pq.constants.h*wf \\\n",
    "        / (pq.constants.k*T)).simplified)-1)\n",
    "    return I.rescale(pq.watt/(pq.m**2 * pq.gigahertz *pq.sr))"
   ]
  },
  {
   "cell_type": "code",
   "execution_count": 68,
   "metadata": {},
   "outputs": [
    {
     "data": {
      "text/plain": [
       "array(0.20777705) * W/(m**2*sr*GHz)"
      ]
     },
     "execution_count": 68,
     "metadata": {},
     "output_type": "execute_result"
    }
   ],
   "source": [
    "B_f(10**13*pq.hertz, 7000*pq.K)"
   ]
  },
  {
   "cell_type": "code",
   "execution_count": null,
   "metadata": {},
   "outputs": [],
   "source": [
    "wf = np.arange(0.1,1000,1)* pq.gigahertz\n",
    "I = B_f(wf,TCMB)\n",
    "\n",
    "fig, ax = plt.subplots(figsize=(10, 8))\n",
    "ax.plot(wf, I*10**9) # Scale the units\n",
    "ax.set_title('Blackbody spectrum at T = 2.725K \\\n",
    " \\n (Frequencies en GHz)')\n",
    "ax.title.set_fontsize(20)\n",
    "ax.set_xlabel(r'Frequence $ \\nu \\; (GHz)$')\n",
    "ax.xaxis.label.set_fontsize(15)\n",
    "ax.set_ylabel('Spectral Radiance   $(10^{-9} W m^{-2} GHz^{-1} sr^{-1})$')\n",
    "ax.yaxis.label.set_fontsize(15)\n",
    "ax.grid()"
   ]
  },
  {
   "cell_type": "code",
   "execution_count": 69,
   "metadata": {},
   "outputs": [
    {
     "name": "stdout",
     "output_type": "stream",
     "text": [
      "wavelength in cm =  0.18737028625000005 cm\n",
      "wavenumber in cycles per cm =  5.337025523170431 1/cm\n"
     ]
    }
   ],
   "source": [
    "#Conversion of 160 GHz to cm**(-1)\n",
    "\n",
    "frec = 160 * pq.gigahertz\n",
    "wl = pq.c  / frec\n",
    "print('wavelength in cm = ', wl.rescale(pq.cm))\n",
    "k = 1/( wl.rescale(pq.cm))\n",
    "print('wavenumber in cycles per cm = ', k)"
   ]
  },
  {
   "cell_type": "code",
   "execution_count": 70,
   "metadata": {},
   "outputs": [
    {
     "name": "stdout",
     "output_type": "stream",
     "text": [
      "5.337025523170432 1/cm\n"
     ]
    }
   ],
   "source": [
    "# The conversion can be made easier\n",
    "# just by dividing by the speed of light.\n",
    "fec_in_wave_number = (frec/pq.c).rescale(1/pq.cm)\n",
    "print (fec_in_wave_number)"
   ]
  },
  {
   "cell_type": "code",
   "execution_count": 71,
   "metadata": {},
   "outputs": [],
   "source": [
    "def B_k(wk,T):\n",
    "    '''wk is an array of frequencies with units in cm^(-1)\n",
    "    T is a temperature in Kelvin.\n",
    "    It returns an array of spectral radiances \n",
    "    with units W/(m**2 x cm**(-1) x sr)\n",
    "    '''\n",
    "    wk = wk.rescale(1/pq.m)\n",
    "    I = 2 * pq.constants.h * pq.c**2 * wk**3  * 1 \\\n",
    "        / (np.exp((pq.constants.h*pq.c*wk \\\n",
    "        / (pq.constants.k*T)).simplified)-1)\n",
    "    return I.rescale(pq.watt/(pq.m**2 * pq.cm**(-1)*pq.sr))"
   ]
  },
  {
   "cell_type": "code",
   "execution_count": 72,
   "metadata": {},
   "outputs": [
    {
     "data": {
      "text/plain": [
       "array(1.15083681e-07) * cm*W/(m**2*sr)"
      ]
     },
     "execution_count": 72,
     "metadata": {},
     "output_type": "execute_result"
    }
   ],
   "source": [
    "f = 5.35 * pq.cm**(-1)\n",
    "B_k(f, TCMB)"
   ]
  },
  {
   "cell_type": "code",
   "execution_count": null,
   "metadata": {},
   "outputs": [],
   "source": [
    "wk = np.arange(0.1,20,0.1) / pq.cm\n",
    "I = B_k(wk,TCMB)\n",
    "I = I*10**7 # We express the units in multiples of 10^(-7)\n",
    "\n",
    "fig, ax = plt.subplots(figsize=(10, 8))\n",
    "ax.plot(wk, I)\n",
    "ax.set_title('Blackbody spectrum at T = 2.7255K \\\n",
    " \\n (Frequencies in $cm^{-1}$)')\n",
    "ax.title.set_fontsize(20)\n",
    "ax.set_xlabel('Frequency (cycles / cm )')\n",
    "ax.xaxis.label.set_fontsize(15)\n",
    "ax.set_ylabel('Spectral Radiance $(10^{-7}W m^{-2} (cm^{-1})^{-1}sr^{-1})$')\n",
    "ax.yaxis.label.set_fontsize(15)\n",
    "ax.grid()"
   ]
  },
  {
   "cell_type": "code",
   "execution_count": null,
   "metadata": {},
   "outputs": [],
   "source": []
  },
  {
   "cell_type": "code",
   "execution_count": null,
   "metadata": {},
   "outputs": [],
   "source": [
    "df = pd.read_table('../data/firas_monopole_spec_v1.txt', \n",
    "    skiprows=18, sep='\\s+', header=None, \n",
    "    names =['freq', 'I', 'residual', 'uncert', 'poles'])"
   ]
  },
  {
   "cell_type": "code",
   "execution_count": null,
   "metadata": {},
   "outputs": [],
   "source": [
    "df[0:10]"
   ]
  },
  {
   "cell_type": "code",
   "execution_count": null,
   "metadata": {},
   "outputs": [],
   "source": [
    "wf = np.arange(0.1,1000,1)* pq.gigahertz\n",
    "I = B_f(wf,TCMB)\n",
    "I = I.rescale(MJy*pq.sr**(-1)) # conversion to MJy * sr**(-1)\n",
    "wk = (wf/pq.c).rescale(1/pq.cm) # convert freq. to 1/cm\n",
    "\n",
    "fig, ax = plt.subplots(figsize=(10, 8))\n",
    "ax.plot(wk, I)\n",
    "ax.set_title('Blackbody spectrum at T = 2.725K \\\n",
    "\\n with data from the COBE satellite')\n",
    "ax.title.set_fontsize(20)\n",
    "ax.set_xlabel('Frequency (cycles/cm)')\n",
    "ax.xaxis.label.set_fontsize(15)\n",
    "ax.set_ylabel('Spectral Radiance ($MJy \\, sr^{-1}$)')\n",
    "ax.yaxis.label.set_fontsize(15)\n",
    "ax.set_xlim(0,25)\n",
    "ax.set_ylim(0,400)\n",
    "\n",
    "ax.scatter(df['freq'], df['I'],c='red', s= 50)\n",
    "ax.grid()"
   ]
  },
  {
   "cell_type": "code",
   "execution_count": 73,
   "metadata": {},
   "outputs": [
    {
     "name": "stderr",
     "output_type": "stream",
     "text": [
      "UsageError: Line magic function `%version_information` not found.\n"
     ]
    }
   ],
   "source": [
    "%matplotlib inline\n",
    "#from __future__ import division\n",
    "\n",
    "import numpy as np\n",
    "import healpy as hp\n",
    "import astroML\n",
    "\n",
    "#This removes some nasty deprecation warnings that do not interfere with the execution\n",
    "import warnings\n",
    "warnings.filterwarnings('ignore')\n",
    "\n",
    "# This IPython magic generates a table with version information\n",
    "#https://github.com/jrjohansson/version_information\n",
    "#%load_ext version_information\n",
    "%version_information numpy, healpy, astroML, astroPy"
   ]
  },
  {
   "cell_type": "code",
   "execution_count": 74,
   "metadata": {},
   "outputs": [
    {
     "name": "stdout",
     "output_type": "stream",
     "text": [
      "The number of pixels for NSIDE =  1 is    12\n",
      "The number of pixels for NSIDE =  2 is    48\n",
      "The number of pixels for NSIDE =  4 is   192\n",
      "The number of pixels for NSIDE =  8 is   768\n",
      "The number of pixels for NSIDE = 16 is  3072\n",
      "The number of pixels for NSIDE = 32 is 12288\n"
     ]
    }
   ],
   "source": [
    "for NSIDE in 2.**np.arange(6):\n",
    "    print('The number of pixels for NSIDE = %2d is %5d' %(NSIDE, hp.nside2npix(NSIDE)))"
   ]
  },
  {
   "cell_type": "code",
   "execution_count": 75,
   "metadata": {},
   "outputs": [
    {
     "name": "stdout",
     "output_type": "stream",
     "text": [
      "The numbering of the pixels for NSIDE = 32 is: \n",
      " [0.0000e+00 1.0000e+00 2.0000e+00 ... 1.2285e+04 1.2286e+04 1.2287e+04]\n"
     ]
    },
    {
     "ename": "TypeError",
     "evalue": "ufunc '_pix2ang_ring' not supported for the input types, and the inputs could not be safely coerced to any supported types according to the casting rule ''safe''",
     "output_type": "error",
     "traceback": [
      "\u001b[0;31m---------------------------------------------------------------------------\u001b[0m",
      "\u001b[0;31mTypeError\u001b[0m                                 Traceback (most recent call last)",
      "\u001b[0;32m<ipython-input-75-c168be03e35b>\u001b[0m in \u001b[0;36m<module>\u001b[0;34m\u001b[0m\n\u001b[1;32m      2\u001b[0m \u001b[0mprint\u001b[0m\u001b[0;34m(\u001b[0m\u001b[0;34m'The numbering of the pixels for NSIDE = %d is: \\n'\u001b[0m \u001b[0;34m%\u001b[0m\u001b[0mNSIDE\u001b[0m\u001b[0;34m,\u001b[0m \u001b[0mipix\u001b[0m\u001b[0;34m)\u001b[0m\u001b[0;34m\u001b[0m\u001b[0;34m\u001b[0m\u001b[0m\n\u001b[1;32m      3\u001b[0m \u001b[0;34m\u001b[0m\u001b[0m\n\u001b[0;32m----> 4\u001b[0;31m \u001b[0mtheta\u001b[0m\u001b[0;34m,\u001b[0m \u001b[0mphi\u001b[0m \u001b[0;34m=\u001b[0m \u001b[0mhp\u001b[0m\u001b[0;34m.\u001b[0m\u001b[0mpix2ang\u001b[0m\u001b[0;34m(\u001b[0m\u001b[0mNSIDE\u001b[0m\u001b[0;34m,\u001b[0m\u001b[0mipix\u001b[0m\u001b[0;34m)\u001b[0m\u001b[0;34m\u001b[0m\u001b[0;34m\u001b[0m\u001b[0m\n\u001b[0m\u001b[1;32m      5\u001b[0m \u001b[0mprint\u001b[0m\u001b[0;34m(\u001b[0m\u001b[0;34m'\\n array theta = '\u001b[0m\u001b[0;34m,\u001b[0m \u001b[0mtheta\u001b[0m\u001b[0;34m/\u001b[0m\u001b[0mnp\u001b[0m\u001b[0;34m.\u001b[0m\u001b[0mpi\u001b[0m\u001b[0;34m,\u001b[0m \u001b[0;34m'radians'\u001b[0m\u001b[0;34m)\u001b[0m\u001b[0;34m\u001b[0m\u001b[0;34m\u001b[0m\u001b[0m\n\u001b[1;32m      6\u001b[0m \u001b[0mprint\u001b[0m\u001b[0;34m(\u001b[0m\u001b[0;34m'\\n array phi = '\u001b[0m\u001b[0;34m,\u001b[0m \u001b[0mphi\u001b[0m\u001b[0;34m/\u001b[0m\u001b[0mnp\u001b[0m\u001b[0;34m.\u001b[0m\u001b[0mpi\u001b[0m\u001b[0;34m,\u001b[0m \u001b[0;34m'radians'\u001b[0m\u001b[0;34m)\u001b[0m\u001b[0;34m\u001b[0m\u001b[0;34m\u001b[0m\u001b[0m\n",
      "\u001b[0;32m/srv/conda/envs/notebook/lib/python3.7/site-packages/healpy/pixelfunc.py\u001b[0m in \u001b[0;36mpix2ang\u001b[0;34m(nside, ipix, nest, lonlat)\u001b[0m\n\u001b[1;32m    526\u001b[0m         \u001b[0mtheta\u001b[0m\u001b[0;34m,\u001b[0m \u001b[0mphi\u001b[0m \u001b[0;34m=\u001b[0m \u001b[0mpixlib\u001b[0m\u001b[0;34m.\u001b[0m\u001b[0m_pix2ang_nest\u001b[0m\u001b[0;34m(\u001b[0m\u001b[0mnside\u001b[0m\u001b[0;34m,\u001b[0m \u001b[0mipix\u001b[0m\u001b[0;34m)\u001b[0m\u001b[0;34m\u001b[0m\u001b[0;34m\u001b[0m\u001b[0m\n\u001b[1;32m    527\u001b[0m     \u001b[0;32melse\u001b[0m\u001b[0;34m:\u001b[0m\u001b[0;34m\u001b[0m\u001b[0;34m\u001b[0m\u001b[0m\n\u001b[0;32m--> 528\u001b[0;31m         \u001b[0mtheta\u001b[0m\u001b[0;34m,\u001b[0m \u001b[0mphi\u001b[0m \u001b[0;34m=\u001b[0m \u001b[0mpixlib\u001b[0m\u001b[0;34m.\u001b[0m\u001b[0m_pix2ang_ring\u001b[0m\u001b[0;34m(\u001b[0m\u001b[0mnside\u001b[0m\u001b[0;34m,\u001b[0m \u001b[0mipix\u001b[0m\u001b[0;34m)\u001b[0m\u001b[0;34m\u001b[0m\u001b[0;34m\u001b[0m\u001b[0m\n\u001b[0m\u001b[1;32m    529\u001b[0m \u001b[0;34m\u001b[0m\u001b[0m\n\u001b[1;32m    530\u001b[0m     \u001b[0;32mif\u001b[0m \u001b[0mlonlat\u001b[0m\u001b[0;34m:\u001b[0m\u001b[0;34m\u001b[0m\u001b[0;34m\u001b[0m\u001b[0m\n",
      "\u001b[0;31mTypeError\u001b[0m: ufunc '_pix2ang_ring' not supported for the input types, and the inputs could not be safely coerced to any supported types according to the casting rule ''safe''"
     ]
    }
   ],
   "source": [
    "ipix = np.arange(hp.nside2npix(NSIDE))\n",
    "print('The numbering of the pixels for NSIDE = %d is: \\n' %NSIDE, ipix)\n",
    "\n",
    "theta, phi = hp.pix2ang(NSIDE,ipix)\n",
    "print('\\n array theta = ', theta/np.pi, 'radians')\n",
    "print('\\n array phi = ', phi/np.pi, 'radians')"
   ]
  },
  {
   "cell_type": "code",
   "execution_count": 76,
   "metadata": {},
   "outputs": [
    {
     "data": {
      "text/plain": [
       "6"
      ]
     },
     "execution_count": 76,
     "metadata": {},
     "output_type": "execute_result"
    }
   ],
   "source": [
    "NSIDE = 1\n",
    "hp.ang2pix(NSIDE, np.pi/2, np.pi)"
   ]
  },
  {
   "cell_type": "code",
   "execution_count": 77,
   "metadata": {},
   "outputs": [
    {
     "data": {
      "text/plain": [
       "array([ 0,  1,  6, 11])"
      ]
     },
     "execution_count": 77,
     "metadata": {},
     "output_type": "execute_result"
    }
   ],
   "source": [
    "# If arrays of the same length: the matching is element to element\n",
    "theta = np.array([0, np.pi/4, np.pi/2, 3*np.pi/4])\n",
    "phi = np.array([0, np.pi/2, np.pi, 3*np.pi/2])\n",
    "hp.ang2pix(NSIDE, theta, phi)"
   ]
  },
  {
   "cell_type": "code",
   "execution_count": 78,
   "metadata": {},
   "outputs": [
    {
     "data": {
      "text/plain": [
       "array([[ 0,  1,  2,  3,  3],\n",
       "       [ 0,  1,  2,  3,  3],\n",
       "       [ 4,  5,  6,  7,  4],\n",
       "       [ 8,  9, 10, 11, 11]])"
      ]
     },
     "execution_count": 78,
     "metadata": {},
     "output_type": "execute_result"
    }
   ],
   "source": [
    "# Then the numpy broadcasting is possible,\n",
    "# and returns a 2D array of pixel numbers\n",
    "theta2 = np.array([0, np.pi/4, np.pi/2, 3*np.pi/4]).reshape(-1,1)\n",
    "phi2 = np.array([0, np.pi/2, np.pi, 3*np.pi/2, 3.5*np.pi/2])\n",
    "hp.ang2pix(NSIDE, theta2, phi2)"
   ]
  },
  {
   "cell_type": "code",
   "execution_count": null,
   "metadata": {},
   "outputs": [],
   "source": [
    "npixels = hp.nside2npix(32)\n",
    "np.random.seed(0)\n",
    "test = np.random.rand(npixels)\n",
    "hp.mollview(test, min=0, max=1,\n",
    "            title = 'Mollweide projection test',\n",
    "            unit='This is a description of the measurement unit')"
   ]
  },
  {
   "cell_type": "code",
   "execution_count": null,
   "metadata": {},
   "outputs": [],
   "source": [
    "NSIDE = 3\n",
    "npixels = hp.nside2npix(NSIDE)\n",
    "img = np.linspace(0, 255, num=npixels)\n",
    "index = np.arange(npixels)\n",
    "theta, phi= hp.pix2ang(NSIDE,index)\n",
    "hp.mollview(img, min=0, max = 255, unit='Range of values')\n",
    "hp.projscatter(theta, phi)\n",
    "for i in index:\n",
    "    hp.projtext(theta[i]-0.05, phi[i], i)"
   ]
  },
  {
   "cell_type": "code",
   "execution_count": 81,
   "metadata": {},
   "outputs": [
    {
     "name": "stdout",
     "output_type": "stream",
     "text": [
      "Downloading http://lambda.gsfc.nasa.gov/data/map/dr4/skymaps/7yr/raw/wmap_band_imap_r9_7yr_W_v4.fits\n",
      "[========================================]  24.01Mb / 24.01Mb   \n",
      "NSIDE = 512\n",
      "ORDERING = NESTED in fits file\n",
      "INDXSCHM = IMPLICIT\n",
      "Ordering converted to RING\n"
     ]
    },
    {
     "data": {
      "text/plain": [
       "(3145728,)"
      ]
     },
     "execution_count": 81,
     "metadata": {},
     "output_type": "execute_result"
    }
   ],
   "source": [
    "from astroML.datasets import fetch_wmap_temperatures\n",
    "wmap_unmasked = fetch_wmap_temperatures(masked=False)\n",
    "wmap_unmasked.shape"
   ]
  },
  {
   "cell_type": "code",
   "execution_count": 82,
   "metadata": {},
   "outputs": [
    {
     "data": {
      "text/plain": [
       "3145728"
      ]
     },
     "execution_count": 82,
     "metadata": {},
     "output_type": "execute_result"
    }
   ],
   "source": [
    "hp.nside2npix(512)"
   ]
  },
  {
   "cell_type": "code",
   "execution_count": null,
   "metadata": {},
   "outputs": [],
   "source": [
    "hp.mollview(wmap_unmasked, min=-1, max=1, \n",
    "            title='Unmasked WMAP data \\n in galactic coordinates',\n",
    "            unit=r'$\\Delta$T (mK)', xsize = 200)"
   ]
  },
  {
   "cell_type": "code",
   "execution_count": null,
   "metadata": {},
   "outputs": [],
   "source": [
    "hp.mollview(wmap_unmasked, min=-1, max=1, \n",
    "            title='Unmasked WMAP data \\n in equatorial coordinates',\n",
    "            coord='GC', rot=(180,0),\n",
    "            unit=r'$\\Delta$T (mK)', xsize = 200)\n",
    "hp.graticule()\n",
    "\n",
    "hp.projtext(180, 2,'RA=180', lonlat=True)\n",
    "hp.projtext(90, 2, 'RA=90', lonlat=True)\n",
    "hp.projtext(270, 2, 'RA=270', lonlat=True);"
   ]
  }
 ],
 "metadata": {
  "kernelspec": {
   "display_name": "Python 3",
   "language": "python",
   "name": "python3"
  },
  "language_info": {
   "codemirror_mode": {
    "name": "ipython",
    "version": 3
   },
   "file_extension": ".py",
   "mimetype": "text/x-python",
   "name": "python",
   "nbconvert_exporter": "python",
   "pygments_lexer": "ipython3",
   "version": "3.7.6"
  }
 },
 "nbformat": 4,
 "nbformat_minor": 1
}
